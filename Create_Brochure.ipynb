{
  "nbformat": 4,
  "nbformat_minor": 0,
  "metadata": {
    "colab": {
      "provenance": [],
      "gpuType": "T4",
      "authorship_tag": "ABX9TyN7SCHYC+O1QgbXqnbSNXnM",
      "include_colab_link": true
    },
    "kernelspec": {
      "name": "python3",
      "display_name": "Python 3"
    },
    "language_info": {
      "name": "python"
    },
    "accelerator": "GPU"
  },
  "cells": [
    {
      "cell_type": "markdown",
      "metadata": {
        "id": "view-in-github",
        "colab_type": "text"
      },
      "source": [
        "<a href=\"https://colab.research.google.com/github/sadrabr/LLM_projects/blob/main/Create_Brochure.ipynb\" target=\"_parent\"><img src=\"https://colab.research.google.com/assets/colab-badge.svg\" alt=\"Open In Colab\"/></a>"
      ]
    },
    {
      "cell_type": "code",
      "execution_count": 71,
      "metadata": {
        "colab": {
          "base_uri": "https://localhost:8080/"
        },
        "id": "9FrqtjnyRbOd",
        "outputId": "8c43088b-675a-47b1-f99c-a74ac9161a82"
      },
      "outputs": [
        {
          "output_type": "stream",
          "name": "stdout",
          "text": [
            "Requirement already satisfied: python-dotenv in /usr/local/lib/python3.11/dist-packages (1.1.0)\n"
          ]
        }
      ],
      "source": [
        "# Install requirement\n",
        "!pip install python-dotenv"
      ]
    },
    {
      "cell_type": "code",
      "source": [
        "import os\n",
        "import requests\n",
        "import json\n",
        "from typing import List\n",
        "from dotenv import load_dotenv\n",
        "from bs4 import BeautifulSoup\n",
        "from IPython.display import Markdown, display, update_display\n",
        "from openai import OpenAI"
      ],
      "metadata": {
        "id": "V8umLV9TfxVX"
      },
      "execution_count": 72,
      "outputs": []
    },
    {
      "cell_type": "code",
      "source": [
        "!curl -fsSL https://ollama.com/install.sh | sh"
      ],
      "metadata": {
        "id": "Ciojb0ePfy-v",
        "colab": {
          "base_uri": "https://localhost:8080/"
        },
        "outputId": "fcf81d02-614b-43d2-e3f7-8357ecb72b0a"
      },
      "execution_count": 73,
      "outputs": [
        {
          "output_type": "stream",
          "name": "stdout",
          "text": [
            ">>> Cleaning up old version at /usr/local/lib/ollama\n",
            ">>> Installing ollama to /usr/local\n",
            ">>> Downloading Linux amd64 bundle\n",
            "######################################################################## 100.0%\n",
            ">>> Adding ollama user to video group...\n",
            ">>> Adding current user to ollama group...\n",
            ">>> Creating ollama systemd service...\n",
            "\u001b[1m\u001b[31mWARNING:\u001b[m systemd is not running\n",
            "\u001b[1m\u001b[31mWARNING:\u001b[m Unable to detect NVIDIA/AMD GPU. Install lspci or lshw to automatically detect and install GPU dependencies.\n",
            ">>> The Ollama API is now available at 127.0.0.1:11434.\n",
            ">>> Install complete. Run \"ollama\" from the command line.\n"
          ]
        }
      ]
    },
    {
      "cell_type": "code",
      "source": [
        "# Start Ollama server\n",
        "\n",
        "import subprocess\n",
        "\n",
        "# Start the command in a background process\n",
        "process = subprocess.Popen([\"ollama\", \"serve\"])\n",
        "\n",
        "# The kernel can continue execution while the process runs in the background\n",
        "print(\"The 'ollama serve' process is running in the background.\")"
      ],
      "metadata": {
        "colab": {
          "base_uri": "https://localhost:8080/"
        },
        "id": "6Nu1HREsi1vv",
        "outputId": "9457c7ea-a684-40bb-ba6c-1424ffed56a2"
      },
      "execution_count": 74,
      "outputs": [
        {
          "output_type": "stream",
          "name": "stdout",
          "text": [
            "The 'ollama serve' process is running in the background.\n"
          ]
        }
      ]
    },
    {
      "cell_type": "code",
      "source": [
        "# Download the model that we want to use - this might take a couple of mins\n",
        "# The exclamation mark at the start of the line indicates that this is a shell command, not python\n",
        "\n",
        "!ollama pull llama3.2:1b"
      ],
      "metadata": {
        "colab": {
          "base_uri": "https://localhost:8080/"
        },
        "id": "S8LZpR_Li4JX",
        "outputId": "77385649-52e4-4d8a-c2d7-4eabced0b0d5"
      },
      "execution_count": 96,
      "outputs": [
        {
          "output_type": "stream",
          "name": "stdout",
          "text": [
            "\u001b[?2026h\u001b[?25l\u001b[1Gpulling manifest ⠋ \u001b[K\u001b[?25h\u001b[?2026l\u001b[?2026h\u001b[?25l\u001b[1Gpulling manifest ⠙ \u001b[K\u001b[?25h\u001b[?2026l\u001b[?2026h\u001b[?25l\u001b[1Gpulling manifest ⠹ \u001b[K\u001b[?25h\u001b[?2026l\u001b[?2026h\u001b[?25l\u001b[1Gpulling manifest ⠸ \u001b[K\u001b[?25h\u001b[?2026l\u001b[?2026h\u001b[?25l\u001b[1Gpulling manifest ⠼ \u001b[K\u001b[?25h\u001b[?2026l\u001b[?2026h\u001b[?25l\u001b[1Gpulling manifest ⠴ \u001b[K\u001b[?25h\u001b[?2026l\u001b[?2026h\u001b[?25l\u001b[1Gpulling manifest ⠦ \u001b[K\u001b[?25h\u001b[?2026l\u001b[?2026h\u001b[?25l\u001b[1Gpulling manifest ⠧ \u001b[K\u001b[?25h\u001b[?2026l\u001b[?2026h\u001b[?25l\u001b[1Gpulling manifest ⠇ \u001b[K\u001b[?25h\u001b[?2026l\u001b[?2026h\u001b[?25l\u001b[1Gpulling manifest \u001b[K\n",
            "pulling 74701a8c35f6: 100% ▕▏ 1.3 GB                         \u001b[K\n",
            "pulling 966de95ca8a6: 100% ▕▏ 1.4 KB                         \u001b[K\n",
            "pulling fcc5a6bec9da: 100% ▕▏ 7.7 KB                         \u001b[K\n",
            "pulling a70ff7e570d9: 100% ▕▏ 6.0 KB                         \u001b[K\n",
            "pulling 4f659a1e86d7: 100% ▕▏  485 B                         \u001b[K\n",
            "verifying sha256 digest \u001b[K\n",
            "writing manifest \u001b[K\n",
            "success \u001b[K\u001b[?25h\u001b[?2026l\n"
          ]
        }
      ]
    },
    {
      "cell_type": "code",
      "source": [
        "# install the Ollama python API package\n",
        "\n",
        "!pip install ollama"
      ],
      "metadata": {
        "colab": {
          "base_uri": "https://localhost:8080/"
        },
        "id": "-b0jB6Yii-l1",
        "outputId": "b523569b-20df-49d6-a452-e153742d38b6"
      },
      "execution_count": 97,
      "outputs": [
        {
          "output_type": "stream",
          "name": "stdout",
          "text": [
            "Requirement already satisfied: ollama in /usr/local/lib/python3.11/dist-packages (0.4.8)\n",
            "Requirement already satisfied: httpx<0.29,>=0.27 in /usr/local/lib/python3.11/dist-packages (from ollama) (0.28.1)\n",
            "Requirement already satisfied: pydantic<3.0.0,>=2.9.0 in /usr/local/lib/python3.11/dist-packages (from ollama) (2.11.4)\n",
            "Requirement already satisfied: anyio in /usr/local/lib/python3.11/dist-packages (from httpx<0.29,>=0.27->ollama) (4.9.0)\n",
            "Requirement already satisfied: certifi in /usr/local/lib/python3.11/dist-packages (from httpx<0.29,>=0.27->ollama) (2025.4.26)\n",
            "Requirement already satisfied: httpcore==1.* in /usr/local/lib/python3.11/dist-packages (from httpx<0.29,>=0.27->ollama) (1.0.9)\n",
            "Requirement already satisfied: idna in /usr/local/lib/python3.11/dist-packages (from httpx<0.29,>=0.27->ollama) (3.10)\n",
            "Requirement already satisfied: h11>=0.16 in /usr/local/lib/python3.11/dist-packages (from httpcore==1.*->httpx<0.29,>=0.27->ollama) (0.16.0)\n",
            "Requirement already satisfied: annotated-types>=0.6.0 in /usr/local/lib/python3.11/dist-packages (from pydantic<3.0.0,>=2.9.0->ollama) (0.7.0)\n",
            "Requirement already satisfied: pydantic-core==2.33.2 in /usr/local/lib/python3.11/dist-packages (from pydantic<3.0.0,>=2.9.0->ollama) (2.33.2)\n",
            "Requirement already satisfied: typing-extensions>=4.12.2 in /usr/local/lib/python3.11/dist-packages (from pydantic<3.0.0,>=2.9.0->ollama) (4.13.2)\n",
            "Requirement already satisfied: typing-inspection>=0.4.0 in /usr/local/lib/python3.11/dist-packages (from pydantic<3.0.0,>=2.9.0->ollama) (0.4.0)\n",
            "Requirement already satisfied: sniffio>=1.1 in /usr/local/lib/python3.11/dist-packages (from anyio->httpx<0.29,>=0.27->ollama) (1.3.1)\n"
          ]
        }
      ]
    },
    {
      "cell_type": "code",
      "source": [
        "# import the package\n",
        "\n",
        "import ollama"
      ],
      "metadata": {
        "id": "8xKuxwZRi_HM"
      },
      "execution_count": 77,
      "outputs": []
    },
    {
      "cell_type": "code",
      "source": [
        "# A class to represent a Webpage\n",
        "\n",
        "# Some websites need you to use proper headers when fetching them:\n",
        "headers = {\n",
        " \"User-Agent\": \"Mozilla/5.0 (Windows NT 10.0; Win64; x64) AppleWebKit/537.36 (KHTML, like Gecko) Chrome/117.0.0.0 Safari/537.36\"\n",
        "}\n",
        "\n",
        "class Website:\n",
        "    \"\"\"\n",
        "    A utility class to represent a Website that we have scraped, now with links\n",
        "    \"\"\"\n",
        "\n",
        "    def __init__(self, url):\n",
        "        self.url = url\n",
        "        response = requests.get(url, headers=headers)\n",
        "        self.body = response.content\n",
        "        soup = BeautifulSoup(self.body, 'html.parser')\n",
        "        self.title = soup.title.string if soup.title else \"No title found\"\n",
        "        if soup.body:\n",
        "            for irrelevant in soup.body([\"script\", \"style\", \"img\", \"input\"]):\n",
        "                irrelevant.decompose()\n",
        "            self.text = soup.body.get_text(separator=\"\\n\", strip=True)\n",
        "        else:\n",
        "            self.text = \"\"\n",
        "        links = [link.get('href') for link in soup.find_all('a')]\n",
        "        self.links = [link for link in links if link]\n",
        "\n",
        "    def get_contents(self):\n",
        "        return f\"Webpage Title:\\n{self.title}\\nWebpage Contents:\\n{self.text}\\n\\n\""
      ],
      "metadata": {
        "id": "LEo2yvNGjCF6"
      },
      "execution_count": 78,
      "outputs": []
    },
    {
      "cell_type": "code",
      "source": [
        "ed = Website(\"https://edwarddonner.com\")\n",
        "ed.links"
      ],
      "metadata": {
        "colab": {
          "base_uri": "https://localhost:8080/"
        },
        "id": "Q-Rio-BnmYs-",
        "outputId": "c7bdce03-6d61-477a-961d-a3c9af85d223"
      },
      "execution_count": 79,
      "outputs": [
        {
          "output_type": "execute_result",
          "data": {
            "text/plain": [
              "['https://edwarddonner.com/',\n",
              " 'https://edwarddonner.com/connect-four/',\n",
              " 'https://edwarddonner.com/outsmart/',\n",
              " 'https://edwarddonner.com/about-me-and-about-nebula/',\n",
              " 'https://edwarddonner.com/posts/',\n",
              " 'https://edwarddonner.com/',\n",
              " 'https://news.ycombinator.com',\n",
              " 'https://nebula.io/?utm_source=ed&utm_medium=referral',\n",
              " 'https://www.prnewswire.com/news-releases/wynden-stark-group-acquires-nyc-venture-backed-tech-startup-untapt-301269512.html',\n",
              " 'https://patents.google.com/patent/US20210049536A1/',\n",
              " 'https://www.linkedin.com/in/eddonner/',\n",
              " 'https://edwarddonner.com/2025/04/21/the-complete-agentic-ai-engineering-course/',\n",
              " 'https://edwarddonner.com/2025/04/21/the-complete-agentic-ai-engineering-course/',\n",
              " 'https://edwarddonner.com/2025/01/23/llm-workshop-hands-on-with-agents-resources/',\n",
              " 'https://edwarddonner.com/2025/01/23/llm-workshop-hands-on-with-agents-resources/',\n",
              " 'https://edwarddonner.com/2024/12/21/llm-resources-superdatascience/',\n",
              " 'https://edwarddonner.com/2024/12/21/llm-resources-superdatascience/',\n",
              " 'https://edwarddonner.com/2024/11/13/llm-engineering-resources/',\n",
              " 'https://edwarddonner.com/2024/11/13/llm-engineering-resources/',\n",
              " 'https://edwarddonner.com/',\n",
              " 'https://edwarddonner.com/connect-four/',\n",
              " 'https://edwarddonner.com/outsmart/',\n",
              " 'https://edwarddonner.com/about-me-and-about-nebula/',\n",
              " 'https://edwarddonner.com/posts/',\n",
              " 'mailto:hello@mygroovydomain.com',\n",
              " 'https://www.linkedin.com/in/eddonner/',\n",
              " 'https://twitter.com/edwarddonner',\n",
              " 'https://www.facebook.com/edward.donner.52']"
            ]
          },
          "metadata": {},
          "execution_count": 79
        }
      ]
    },
    {
      "cell_type": "code",
      "source": [
        "link_system_prompt = \"You are provided with a list of links found on a webpage. \\\n",
        "You are able to decide which of the links would be most relevant to include in a brochure about the company, \\\n",
        "such as links to an About page, or a Company page, or Careers/Jobs pages.\\n\"\n",
        "link_system_prompt += \"You should respond in JSON format only as in this example:\"\n",
        "link_system_prompt += \"\"\"\n",
        "{\n",
        "    \"links\": [\n",
        "        {\"type\": \"about page\", \"url\": \"https://full.url/goes/here/about\"},\n",
        "        {\"type\": \"careers page\": \"url\": \"https://another.full.url/careers\"}\n",
        "    ]\n",
        "}\n",
        "\"\"\""
      ],
      "metadata": {
        "id": "GPkodVrTmuvk"
      },
      "execution_count": 80,
      "outputs": []
    },
    {
      "cell_type": "code",
      "source": [
        "print(link_system_prompt)"
      ],
      "metadata": {
        "colab": {
          "base_uri": "https://localhost:8080/"
        },
        "id": "QCO9Kofznwgl",
        "outputId": "4cd1ef9f-9705-42f4-8d03-c711d65d2067"
      },
      "execution_count": 81,
      "outputs": [
        {
          "output_type": "stream",
          "name": "stdout",
          "text": [
            "You are provided with a list of links found on a webpage. You are able to decide which of the links would be most relevant to include in a brochure about the company, such as links to an About page, or a Company page, or Careers/Jobs pages.\n",
            "You should respond in JSON format only as in this example:\n",
            "{\n",
            "    \"links\": [\n",
            "        {\"type\": \"about page\", \"url\": \"https://full.url/goes/here/about\"},\n",
            "        {\"type\": \"careers page\": \"url\": \"https://another.full.url/careers\"}\n",
            "    ]\n",
            "}\n",
            "\n"
          ]
        }
      ]
    },
    {
      "cell_type": "code",
      "source": [
        "def get_links_user_prompt(website):\n",
        "    user_prompt = f\"Here is the list of links on the website of {website.url} - \"\n",
        "    user_prompt += \"please decide which of these are relevant web links for a brochure about the company, respond with the full https URL  in JSON format only. \\\n",
        "Do not include Terms of Service, Privacy, email links.\\n\"\n",
        "    user_prompt += \"Links (some might be relative links):\\n\"\n",
        "    user_prompt += \"\\n\".join(website.links)\n",
        "    return user_prompt"
      ],
      "metadata": {
        "id": "lt0Yp1-Dnzzg"
      },
      "execution_count": 82,
      "outputs": []
    },
    {
      "cell_type": "code",
      "source": [
        "print(get_links_user_prompt(ed))"
      ],
      "metadata": {
        "colab": {
          "base_uri": "https://localhost:8080/"
        },
        "id": "WWT3qQl9odJ8",
        "outputId": "681af329-101f-46f6-a489-34ac94ad44fa"
      },
      "execution_count": 83,
      "outputs": [
        {
          "output_type": "stream",
          "name": "stdout",
          "text": [
            "Here is the list of links on the website of https://edwarddonner.com - please decide which of these are relevant web links for a brochure about the company, respond with the full https URL  in JSON format only. Do not include Terms of Service, Privacy, email links.\n",
            "Links (some might be relative links):\n",
            "https://edwarddonner.com/\n",
            "https://edwarddonner.com/connect-four/\n",
            "https://edwarddonner.com/outsmart/\n",
            "https://edwarddonner.com/about-me-and-about-nebula/\n",
            "https://edwarddonner.com/posts/\n",
            "https://edwarddonner.com/\n",
            "https://news.ycombinator.com\n",
            "https://nebula.io/?utm_source=ed&utm_medium=referral\n",
            "https://www.prnewswire.com/news-releases/wynden-stark-group-acquires-nyc-venture-backed-tech-startup-untapt-301269512.html\n",
            "https://patents.google.com/patent/US20210049536A1/\n",
            "https://www.linkedin.com/in/eddonner/\n",
            "https://edwarddonner.com/2025/04/21/the-complete-agentic-ai-engineering-course/\n",
            "https://edwarddonner.com/2025/04/21/the-complete-agentic-ai-engineering-course/\n",
            "https://edwarddonner.com/2025/01/23/llm-workshop-hands-on-with-agents-resources/\n",
            "https://edwarddonner.com/2025/01/23/llm-workshop-hands-on-with-agents-resources/\n",
            "https://edwarddonner.com/2024/12/21/llm-resources-superdatascience/\n",
            "https://edwarddonner.com/2024/12/21/llm-resources-superdatascience/\n",
            "https://edwarddonner.com/2024/11/13/llm-engineering-resources/\n",
            "https://edwarddonner.com/2024/11/13/llm-engineering-resources/\n",
            "https://edwarddonner.com/\n",
            "https://edwarddonner.com/connect-four/\n",
            "https://edwarddonner.com/outsmart/\n",
            "https://edwarddonner.com/about-me-and-about-nebula/\n",
            "https://edwarddonner.com/posts/\n",
            "mailto:hello@mygroovydomain.com\n",
            "https://www.linkedin.com/in/eddonner/\n",
            "https://twitter.com/edwarddonner\n",
            "https://www.facebook.com/edward.donner.52\n"
          ]
        }
      ]
    },
    {
      "cell_type": "code",
      "source": [
        "import json\n",
        "def get_links(url):\n",
        "  website = Website(url)\n",
        "  response = ollama.chat(\n",
        "      model = \"llama3.2:1b\",\n",
        "     messages=[\n",
        "            {\"role\": \"system\", \"content\": link_system_prompt},\n",
        "            {\"role\": \"user\", \"content\": get_links_user_prompt(website)}\n",
        "      ],\n",
        "      # format={\"type\": \"json_object\"}\n",
        "  )\n",
        "  result = response['message']['content']\n",
        "  return json.loads(result)"
      ],
      "metadata": {
        "id": "uNB8xK4yohRg"
      },
      "execution_count": 84,
      "outputs": []
    },
    {
      "cell_type": "code",
      "source": [
        "huggingface = Website(\"https://huggingface.co\")\n",
        "huggingface.links"
      ],
      "metadata": {
        "id": "rPnaDkUSqk_A",
        "colab": {
          "base_uri": "https://localhost:8080/"
        },
        "outputId": "af7c6394-239c-46ec-d5d3-f905223a907f"
      },
      "execution_count": 85,
      "outputs": [
        {
          "output_type": "execute_result",
          "data": {
            "text/plain": [
              "['/',\n",
              " '/models',\n",
              " '/datasets',\n",
              " '/spaces',\n",
              " '/posts',\n",
              " '/docs',\n",
              " '/enterprise',\n",
              " '/pricing',\n",
              " '/login',\n",
              " '/join',\n",
              " '/spaces',\n",
              " '/models',\n",
              " '/nvidia/parakeet-tdt-0.6b-v2',\n",
              " '/nari-labs/Dia-1.6B',\n",
              " '/ACE-Step/ACE-Step-v1-3.5B',\n",
              " '/Lightricks/LTX-Video',\n",
              " '/deepseek-ai/DeepSeek-Prover-V2-671B',\n",
              " '/models',\n",
              " '/spaces/enzostvs/deepsite',\n",
              " '/spaces/RiverZ/ICEdit',\n",
              " '/spaces/smolagents/computer-agent',\n",
              " '/spaces/nari-labs/Dia-1.6B',\n",
              " '/spaces/ACE-Step/ACE-Step',\n",
              " '/spaces',\n",
              " '/datasets/nvidia/Nemotron-CrossThink',\n",
              " '/datasets/DMindAI/DMind_Benchmark',\n",
              " '/datasets/nvidia/OpenMathReasoning',\n",
              " '/datasets/nvidia/OpenCodeReasoning',\n",
              " '/datasets/nvidia/Llama-Nemotron-Post-Training-Dataset',\n",
              " '/datasets',\n",
              " '/join',\n",
              " '/pricing#endpoints',\n",
              " '/pricing#spaces',\n",
              " '/pricing',\n",
              " '/enterprise',\n",
              " '/enterprise',\n",
              " '/enterprise',\n",
              " '/enterprise',\n",
              " '/enterprise',\n",
              " '/enterprise',\n",
              " '/enterprise',\n",
              " '/allenai',\n",
              " '/facebook',\n",
              " '/amazon',\n",
              " '/google',\n",
              " '/Intel',\n",
              " '/microsoft',\n",
              " '/grammarly',\n",
              " '/Writer',\n",
              " '/docs/transformers',\n",
              " '/docs/diffusers',\n",
              " '/docs/safetensors',\n",
              " '/docs/huggingface_hub',\n",
              " '/docs/tokenizers',\n",
              " '/docs/trl',\n",
              " '/docs/transformers.js',\n",
              " '/docs/smolagents',\n",
              " '/docs/peft',\n",
              " '/docs/datasets',\n",
              " '/docs/text-generation-inference',\n",
              " '/docs/accelerate',\n",
              " '/models',\n",
              " '/datasets',\n",
              " '/spaces',\n",
              " '/tasks',\n",
              " 'https://ui.endpoints.huggingface.co',\n",
              " '/chat',\n",
              " '/huggingface',\n",
              " '/brand',\n",
              " '/terms-of-service',\n",
              " '/privacy',\n",
              " 'https://apply.workable.com/huggingface/',\n",
              " 'mailto:press@huggingface.co',\n",
              " '/learn',\n",
              " '/docs',\n",
              " '/blog',\n",
              " 'https://discuss.huggingface.co',\n",
              " 'https://status.huggingface.co/',\n",
              " 'https://github.com/huggingface',\n",
              " 'https://twitter.com/huggingface',\n",
              " 'https://www.linkedin.com/company/huggingface/',\n",
              " '/join/discord',\n",
              " 'https://www.zhihu.com/org/huggingface',\n",
              " 'https://huggingface.co/datasets/huggingface/documentation-images/resolve/main/blog/chinese-language-blog/wechat.jpg']"
            ]
          },
          "metadata": {},
          "execution_count": 85
        }
      ]
    },
    {
      "cell_type": "code",
      "source": [
        "get_links(\"https://huggingface.co\")"
      ],
      "metadata": {
        "colab": {
          "base_uri": "https://localhost:8080/"
        },
        "id": "ZVNrGza_qosz",
        "outputId": "1c2c7dfd-f087-4867-9b5a-7e1fd5bc9211"
      },
      "execution_count": 86,
      "outputs": [
        {
          "output_type": "execute_result",
          "data": {
            "text/plain": [
              "{'links': [{'type': 'about page', 'url': 'https://huggingface.co/about'},\n",
              "  {'type': 'enterprise', 'url': 'https://huggingface.co/enterprise'},\n",
              "  {'type': 'docs', 'url': 'https://huggingface.co/docs'}]}"
            ]
          },
          "metadata": {},
          "execution_count": 86
        }
      ]
    },
    {
      "cell_type": "code",
      "source": [
        "get_links(\"http://anthropic.com\")"
      ],
      "metadata": {
        "colab": {
          "base_uri": "https://localhost:8080/"
        },
        "id": "MS5SK4MCq1Ih",
        "outputId": "5659e9e5-eafc-4053-c234-056cbf5e6ccb"
      },
      "execution_count": 87,
      "outputs": [
        {
          "output_type": "execute_result",
          "data": {
            "text/plain": [
              "{'links': [{'type': 'about page', 'url': 'https://www.anthropic.com/'},\n",
              "  {'type': 'careers page', 'url': 'https://www.anthropic.com/careers'}]}"
            ]
          },
          "metadata": {},
          "execution_count": 87
        }
      ]
    },
    {
      "cell_type": "markdown",
      "source": [
        "## Second step: make the brochure!"
      ],
      "metadata": {
        "id": "eo55L5lywrF_"
      }
    },
    {
      "cell_type": "code",
      "source": [
        "def get_all_details(url):\n",
        "    result = \"Landing page:\\n\"\n",
        "    result += Website(url).get_contents()\n",
        "    links = get_links(url)\n",
        "    print(\"Found links:\", links)\n",
        "    for link in links[\"links\"]:\n",
        "        result += f\"\\n\\n{link['type']}\\n\"\n",
        "        result += Website(link[\"url\"]).get_contents()\n",
        "    return result"
      ],
      "metadata": {
        "id": "aW4wYMMAy7Ug"
      },
      "execution_count": 88,
      "outputs": []
    },
    {
      "cell_type": "code",
      "source": [
        "get_all_details(\"https://huggingface.co\")"
      ],
      "metadata": {
        "colab": {
          "base_uri": "https://localhost:8080/",
          "height": 140
        },
        "id": "dgaQmk4x0iWd",
        "outputId": "3636041e-0d5f-4895-9040-a33f753f5b7a"
      },
      "execution_count": 89,
      "outputs": [
        {
          "output_type": "stream",
          "name": "stdout",
          "text": [
            "Found links: {'links': [{'type': 'about page', 'url': 'https://huggingface.co/about'}, {'type': 'enterprise', 'url': 'https://huggingface.co/enterprise'}]}\n"
          ]
        },
        {
          "output_type": "execute_result",
          "data": {
            "text/plain": [
              "\"Landing page:\\nWebpage Title:\\nHugging Face – The AI community building the future.\\nWebpage Contents:\\nHugging Face\\nModels\\nDatasets\\nSpaces\\nPosts\\nDocs\\nEnterprise\\nPricing\\nLog In\\nSign Up\\nThe AI community building the future.\\nThe platform where the machine learning community collaborates on models, datasets, and applications.\\nExplore AI Apps\\nor\\nBrowse 1M+ models\\nTrending on\\nthis week\\nModels\\nnvidia/parakeet-tdt-0.6b-v2\\nUpdated\\n8 days ago\\n•\\n42.1k\\n•\\n632\\nnari-labs/Dia-1.6B\\nUpdated\\n4 days ago\\n•\\n144k\\n•\\n1.99k\\nACE-Step/ACE-Step-v1-3.5B\\nUpdated\\n3 days ago\\n•\\n267\\nLightricks/LTX-Video\\nUpdated\\n3 days ago\\n•\\n203k\\n•\\n1.33k\\ndeepseek-ai/DeepSeek-Prover-V2-671B\\nUpdated\\n9 days ago\\n•\\n6.77k\\n•\\n745\\nBrowse 1M+ models\\nSpaces\\nRunning\\n6.23k\\n6.23k\\nDeepSite\\n🐳\\nGenerate any application with DeepSeek\\nRunning\\non\\nZero\\n427\\n427\\nICEdit\\n🖼\\nUniversal Image Editing is worth a single LoRA\\nRunning\\non\\nCPU Upgrade\\n292\\n292\\nComputer Agent\\n🖥\\nControl a virtual computer to complete tasks\\nRunning\\non\\nZero\\n1.24k\\n1.24k\\nDia 1.6B\\n👯\\nGenerate realistic dialogue from a script, using Dia!\\nRunning\\non\\nZero\\n175\\n175\\nACE Step\\n😻\\nA Step Towards Music Generation Foundation Model\\nBrowse 400k+ applications\\nDatasets\\nnvidia/Nemotron-CrossThink\\nUpdated\\n8 days ago\\n•\\n7.47k\\n•\\n79\\nDMindAI/DMind_Benchmark\\nUpdated\\nabout 8 hours ago\\n•\\n1.28k\\n•\\n48\\nnvidia/OpenMathReasoning\\nUpdated\\nabout 2 hours ago\\n•\\n31.1k\\n•\\n202\\nnvidia/OpenCodeReasoning\\nUpdated\\n5 days ago\\n•\\n17.5k\\n•\\n370\\nnvidia/Llama-Nemotron-Post-Training-Dataset\\nUpdated\\n1 day ago\\n•\\n11.7k\\n•\\n474\\nBrowse 250k+ datasets\\nThe Home of Machine Learning\\nCreate, discover and collaborate on ML better.\\nThe collaboration platform\\nHost and collaborate on unlimited public models, datasets and applications.\\nMove faster\\nWith the HF Open source stack.\\nExplore all modalities\\nText, image, video, audio or even 3D.\\nBuild your portfolio\\nShare your work with the world and build your ML profile.\\nSign Up\\nAccelerate your ML\\nWe provide paid Compute and Enterprise solutions.\\nCompute\\nDeploy on optimized\\nInference Endpoints\\nor update your\\nSpaces applications\\nto a GPU in a few clicks.\\nView pricing\\nStarting at $0.60/hour for GPU\\nEnterprise\\nGive your team the most advanced platform to build AI with enterprise-grade security, access controls and\\n\\t\\t\\tdedicated support.\\nGetting started\\nStarting at $20/user/month\\nSingle Sign-On\\nRegions\\nPriority Support\\nAudit Logs\\nResource Groups\\nPrivate Datasets Viewer\\nMore than 50,000 organizations are using Hugging Face\\nAi2\\nEnterprise\\nnon-profit\\n•\\n756 models\\n•\\n3.23k followers\\nAI at Meta\\nEnterprise\\ncompany\\n•\\n2.12k models\\n•\\n5.85k followers\\nAmazon\\ncompany\\n•\\n20 models\\n•\\n3.14k followers\\nGoogle\\ncompany\\n•\\n991 models\\n•\\n12.9k followers\\nIntel\\ncompany\\n•\\n220 models\\n•\\n2.52k followers\\nMicrosoft\\ncompany\\n•\\n374 models\\n•\\n12.2k followers\\nGrammarly\\nEnterprise\\ncompany\\n•\\n10 models\\n•\\n158 followers\\nWriter\\nEnterprise\\ncompany\\n•\\n21 models\\n•\\n266 followers\\nOur Open Source\\nWe are building the foundation of ML tooling with the community.\\nTransformers\\n144,078\\nState-of-the-art ML for PyTorch, TensorFlow, JAX\\nDiffusers\\n28,903\\nState-of-the-art Diffusion models in PyTorch\\nSafetensors\\n3,255\\nSafe way to store/distribute neural network weights\\nHub Python Library\\n2,587\\nPython client to interact with the Hugging Face Hub\\nTokenizers\\n9,668\\nFast tokenizers optimized for research & production\\nTRL\\n13,645\\nTrain transformers LMs with reinforcement learning\\nTransformers.js\\n13,559\\nState-of-the-art ML running directly in your browser\\nsmolagents\\n18,309\\nSmol library to build great agents in Python\\nPEFT\\n18,339\\nParameter-efficient finetuning for large language models\\nDatasets\\n20,089\\nAccess & share datasets for any ML tasks\\nText Generation Inference\\n10,098\\nServe language models with TGI optimized toolkit\\nAccelerate\\n8,693\\nTrain PyTorch models with multi-GPU, TPU, mixed precision\\nSystem theme\\nWebsite\\nModels\\nDatasets\\nSpaces\\nTasks\\nInference Endpoints\\nHuggingChat\\nCompany\\nAbout\\nBrand assets\\nTerms of service\\nPrivacy\\nJobs\\nPress\\nResources\\nLearn\\nDocumentation\\nBlog\\nForum\\nService Status\\nSocial\\nGitHub\\nTwitter\\nLinkedIn\\nDiscord\\nZhihu\\nWeChat\\n\\n\\n\\nabout page\\nWebpage Title:\\nabout (Sergei)\\nWebpage Contents:\\nHugging Face\\nModels\\nDatasets\\nSpaces\\nPosts\\nDocs\\nEnterprise\\nPricing\\nLog In\\nSign Up\\nSergei\\nabout\\nFollow\\nRenumathi's profile picture\\nKalaipriya's profile picture\\njondelamothe's profile picture\\n5\\n\\t\\t\\t\\t\\tfollowers\\n·\\n0 following\\nAI & ML interests\\nNone yet\\nOrganizations\\nNone yet\\nmodels\\n0\\nNone public yet\\ndatasets\\n0\\nNone public yet\\nSystem theme\\nCompany\\nTOS\\nPrivacy\\nAbout\\nJobs\\nWebsite\\nModels\\nDatasets\\nSpaces\\nPricing\\nDocs\\n\\n\\n\\nenterprise\\nWebpage Title:\\nEnterprise Hub - Hugging Face\\nWebpage Contents:\\nHugging Face\\nModels\\nDatasets\\nSpaces\\nPosts\\nDocs\\nEnterprise\\nPricing\\nLog In\\nSign Up\\nEnterprise Hub\\nEnterprise-ready version of the world’s leading AI platform\\nSubscribe to\\nEnterprise Hub\\nfor $20/user/month with your Hub organization\\nGive your organization the most advanced platform to build AI with enterprise-grade security, access controls,\\n\\t\\t\\tdedicated support and more.\\nSingle Sign-On\\nConnect securely to your identity provider with SSO integration.\\nRegions\\nSelect, manage, and audit the location of your repository data.\\nAudit Logs\\nStay in control with comprehensive logs that report on actions taken.\\nResource Groups\\nAccurately manage access to repositories with granular access control.\\nToken Management\\nCentralized token control and custom approval policies for organization access.\\nAnalytics\\nTrack and analyze repository usage data in a single dashboard.\\nAdvanced Compute Options\\nIncrease scalability and performance with more compute options like ZeroGPU.\\nZeroGPU Quota Boost\\nAll organization members get 5x more ZeroGPU quota to get the most of Spaces.\\nPrivate Datasets Viewer\\nEnable the Dataset Viewer on your private datasets for easier collaboration.\\nAdvanced security\\nConfigure organization-wide security policies and default repository visibility.\\nBilling\\nControl your budget effectively with managed billing and yearly commit options.\\nPriority Support\\nMaximize your platform usage with priority support from the Hugging Face team.\\nExtra Private Storage\\nGet an additional 1 TB of private storage for each member of your organization (then $25/month per extra TB).\\nJoin the most forward-thinking AI organizations\\nEverything you already know and love about Hugging Face in Enterprise mode.\\nSubscribe to\\nEnterprise Hub\\nor\\nTalk to sales\\nNVIDIA\\nEnterprise\\ncompany\\n•\\n358 models\\n•\\n25k followers\\nShopify\\nEnterprise\\ncompany\\n•\\n449 followers\\nAMD\\nEnterprise\\ncompany\\n•\\n132 models\\n•\\n1.52k followers\\nTogether\\nEnterprise\\ncompany\\n•\\n29 models\\n•\\n588 followers\\nQwen\\nEnterprise\\ncompany\\n•\\n262 models\\n•\\n30k followers\\nXsolla\\nEnterprise\\ncompany\\n•\\n135 followers\\nFidelity Investments\\nEnterprise\\ncompany\\n•\\n141 followers\\nNutanix\\nEnterprise\\ncompany\\n•\\n261 models\\n•\\n94 followers\\nIBM Granite\\nEnterprise\\ncompany\\n•\\n117 models\\n•\\n1.68k followers\\ncreditkarma\\nEnterprise\\ncompany\\n•\\n64 followers\\nHyperCLOVA X\\nEnterprise\\ncompany\\n•\\n3 models\\n•\\n272 followers\\nNovo Nordisk\\nEnterprise\\ncompany\\n•\\n81 followers\\nMiniMax\\nEnterprise\\ncompany\\n•\\n2 models\\n•\\n632 followers\\nStability AI\\nEnterprise\\ncompany\\n•\\n105 models\\n•\\n22.7k followers\\nInfosys Limited\\nEnterprise\\ncompany\\n•\\n2 models\\n•\\n822 followers\\nNerdy Face\\nEnterprise\\ncompany\\n•\\n1 model\\n•\\n297 followers\\nSnowflake\\nEnterprise\\ncompany\\n•\\n21 models\\n•\\n503 followers\\nArm\\nEnterprise\\ncompany\\n•\\n192 followers\\nLiveRAG by AIIR\\nEnterprise\\ncompany\\n•\\n129 followers\\nServiceNow-AI\\nEnterprise\\ncompany\\n•\\n3 models\\n•\\n250 followers\\nToyota Research Institute\\nEnterprise\\ncompany\\n•\\n10 models\\n•\\n111 followers\\nJusbrasil\\nEnterprise\\ncompany\\n•\\n96 followers\\nH2O.ai\\nEnterprise\\ncompany\\n•\\n71 models\\n•\\n422 followers\\nTechnology Innovation Institute\\nEnterprise\\ncompany\\n•\\n65 models\\n•\\n1.32k followers\\nHiddenLayer\\nEnterprise\\ncompany\\n•\\n1 model\\n•\\n71 followers\\nJohnson & Johnson\\nEnterprise\\ncompany\\n•\\n59 followers\\nLiquid AI\\nEnterprise\\ncompany\\n•\\n186 followers\\nLightricks\\nEnterprise\\ncompany\\n•\\n10 models\\n•\\n791 followers\\nMeta Llama\\nEnterprise\\ncompany\\n•\\n70 models\\n•\\n42.3k followers\\nAI at Meta\\nEnterprise\\ncompany\\n•\\n2.12k models\\n•\\n5.85k followers\\nOrange\\nEnterprise\\ncompany\\n•\\n7 models\\n•\\n221 followers\\nServiceNow\\nEnterprise\\ncompany\\n•\\n502 followers\\nWriter\\nEnterprise\\ncompany\\n•\\n21 models\\n•\\n266 followers\\nDeutsche Telekom AG\\nEnterprise\\ncompany\\n•\\n7 models\\n•\\n144 followers\\nMercedes-Benz AG\\nEnterprise\\ncompany\\n•\\n158 followers\\nTNG Technology Consulting GmbH\\nEnterprise\\ncompany\\n•\\n3 models\\n•\\n141 followers\\nAledade Inc\\nEnterprise\\ncompany\\n•\\n71 followers\\nChegg Inc\\nEnterprise\\ncompany\\n•\\n85 followers\\nGrammarly\\nEnterprise\\ncompany\\n•\\n10 models\\n•\\n158 followers\\nWidn AI\\nEnterprise\\ncompany\\n•\\n48 followers\\nBCG X\\nEnterprise\\ncompany\\n•\\n40 followers\\nfreepik\\nEnterprise\\ncompany\\n•\\n5 models\\n•\\n269 followers\\nCompliance & Certifications\\nGDPR Compliant\\nSOC 2 Type 2\\nSystem theme\\nWebsite\\nModels\\nDatasets\\nSpaces\\nTasks\\nInference Endpoints\\nHuggingChat\\nCompany\\nAbout\\nBrand assets\\nTerms of service\\nPrivacy\\nJobs\\nPress\\nResources\\nLearn\\nDocumentation\\nBlog\\nForum\\nService Status\\nSocial\\nGitHub\\nTwitter\\nLinkedIn\\nDiscord\\n\\n\""
            ],
            "application/vnd.google.colaboratory.intrinsic+json": {
              "type": "string"
            }
          },
          "metadata": {},
          "execution_count": 89
        }
      ]
    },
    {
      "cell_type": "code",
      "source": [
        "# system_prompt = \"You are an assistant that analyzes the contents of several relevant pages from a company website \\\n",
        "# and creates a short brochure about the company for prospective customers, investors and recruits. Respond in markdown.\\\n",
        "# Include details of company culture, customers and careers/jobs if you have the information.\""
      ],
      "metadata": {
        "id": "16wRAl490qAT"
      },
      "execution_count": 90,
      "outputs": []
    },
    {
      "cell_type": "code",
      "source": [
        "system_prompt = \"You are an assistant that analyzes the contents of several relevant pages from a company website \\\n",
        "and creates a short humorous, entertaining, jokey brochure about the company for prospective customers, investors and recruits. Respond in markdown.\\\n",
        "Include details of company culture, customers and careers/jobs if you have the information.\""
      ],
      "metadata": {
        "id": "qPszxuo_6H5N"
      },
      "execution_count": 91,
      "outputs": []
    },
    {
      "cell_type": "code",
      "source": [
        "def get_brochure_user_prompt(company_name, url):\n",
        "    user_prompt = f\"You are looking at a company called: {company_name}\\n\"\n",
        "    user_prompt += f\"Here are the contents of its landing page and other relevant pages; use this information to build a short brochure of the company in markdown.\\n\"\n",
        "    user_prompt += get_all_details(url)\n",
        "    user_prompt = user_prompt[:5_000] # Truncate if more than 5,000 characters\n",
        "    return user_prompt"
      ],
      "metadata": {
        "id": "oyNHM9E-6PyV"
      },
      "execution_count": 92,
      "outputs": []
    },
    {
      "cell_type": "code",
      "source": [
        "get_brochure_user_prompt(\"HuggingFace\", \"https://huggingface.co\")"
      ],
      "metadata": {
        "id": "s_3tiL0G63RA",
        "colab": {
          "base_uri": "https://localhost:8080/",
          "height": 160
        },
        "outputId": "960ac6a9-716f-4047-cda6-8f3e8302f00e"
      },
      "execution_count": 93,
      "outputs": [
        {
          "output_type": "stream",
          "name": "stdout",
          "text": [
            "Found links: {'links': [{'type': 'about page', 'url': 'https://huggingface.co/about'}, {'type': 'enterprise', 'url': 'https://ui.endpoints.huggingface.co'}, {'type': 'docs', 'url': 'https://huggingface.co/docs'}, {'type': 'brand', 'url': 'https://github.com/huggingface'}, {'type': 'terms-of-service', 'url': 'https://apply.workable.com/huggingface/'}]}\n"
          ]
        },
        {
          "output_type": "execute_result",
          "data": {
            "text/plain": [
              "\"You are looking at a company called: HuggingFace\\nHere are the contents of its landing page and other relevant pages; use this information to build a short brochure of the company in markdown.\\nLanding page:\\nWebpage Title:\\nHugging Face – The AI community building the future.\\nWebpage Contents:\\nHugging Face\\nModels\\nDatasets\\nSpaces\\nPosts\\nDocs\\nEnterprise\\nPricing\\nLog In\\nSign Up\\nThe AI community building the future.\\nThe platform where the machine learning community collaborates on models, datasets, and applications.\\nExplore AI Apps\\nor\\nBrowse 1M+ models\\nTrending on\\nthis week\\nModels\\nnvidia/parakeet-tdt-0.6b-v2\\nUpdated\\n8 days ago\\n•\\n42.1k\\n•\\n632\\nnari-labs/Dia-1.6B\\nUpdated\\n4 days ago\\n•\\n144k\\n•\\n1.99k\\nACE-Step/ACE-Step-v1-3.5B\\nUpdated\\n3 days ago\\n•\\n267\\nLightricks/LTX-Video\\nUpdated\\n3 days ago\\n•\\n203k\\n•\\n1.33k\\ndeepseek-ai/DeepSeek-Prover-V2-671B\\nUpdated\\n9 days ago\\n•\\n6.77k\\n•\\n745\\nBrowse 1M+ models\\nSpaces\\nRunning\\n6.23k\\n6.23k\\nDeepSite\\n🐳\\nGenerate any application with DeepSeek\\nRunning\\non\\nZero\\n427\\n427\\nICEdit\\n🖼\\nUniversal Image Editing is worth a single LoRA\\nRunning\\non\\nCPU Upgrade\\n292\\n292\\nComputer Agent\\n🖥\\nControl a virtual computer to complete tasks\\nRunning\\non\\nZero\\n1.24k\\n1.24k\\nDia 1.6B\\n👯\\nGenerate realistic dialogue from a script, using Dia!\\nRunning\\non\\nZero\\n175\\n175\\nACE Step\\n😻\\nA Step Towards Music Generation Foundation Model\\nBrowse 400k+ applications\\nDatasets\\nnvidia/Nemotron-CrossThink\\nUpdated\\n8 days ago\\n•\\n7.47k\\n•\\n79\\nDMindAI/DMind_Benchmark\\nUpdated\\nabout 8 hours ago\\n•\\n1.28k\\n•\\n48\\nnvidia/OpenMathReasoning\\nUpdated\\nabout 2 hours ago\\n•\\n31.1k\\n•\\n202\\nnvidia/OpenCodeReasoning\\nUpdated\\n5 days ago\\n•\\n17.5k\\n•\\n370\\nnvidia/Llama-Nemotron-Post-Training-Dataset\\nUpdated\\n1 day ago\\n•\\n11.7k\\n•\\n474\\nBrowse 250k+ datasets\\nThe Home of Machine Learning\\nCreate, discover and collaborate on ML better.\\nThe collaboration platform\\nHost and collaborate on unlimited public models, datasets and applications.\\nMove faster\\nWith the HF Open source stack.\\nExplore all modalities\\nText, image, video, audio or even 3D.\\nBuild your portfolio\\nShare your work with the world and build your ML profile.\\nSign Up\\nAccelerate your ML\\nWe provide paid Compute and Enterprise solutions.\\nCompute\\nDeploy on optimized\\nInference Endpoints\\nor update your\\nSpaces applications\\nto a GPU in a few clicks.\\nView pricing\\nStarting at $0.60/hour for GPU\\nEnterprise\\nGive your team the most advanced platform to build AI with enterprise-grade security, access controls and\\n\\t\\t\\tdedicated support.\\nGetting started\\nStarting at $20/user/month\\nSingle Sign-On\\nRegions\\nPriority Support\\nAudit Logs\\nResource Groups\\nPrivate Datasets Viewer\\nMore than 50,000 organizations are using Hugging Face\\nAi2\\nEnterprise\\nnon-profit\\n•\\n756 models\\n•\\n3.23k followers\\nAI at Meta\\nEnterprise\\ncompany\\n•\\n2.12k models\\n•\\n5.85k followers\\nAmazon\\ncompany\\n•\\n20 models\\n•\\n3.14k followers\\nGoogle\\ncompany\\n•\\n991 models\\n•\\n12.9k followers\\nIntel\\ncompany\\n•\\n220 models\\n•\\n2.52k followers\\nMicrosoft\\ncompany\\n•\\n374 models\\n•\\n12.2k followers\\nGrammarly\\nEnterprise\\ncompany\\n•\\n10 models\\n•\\n158 followers\\nWriter\\nEnterprise\\ncompany\\n•\\n21 models\\n•\\n266 followers\\nOur Open Source\\nWe are building the foundation of ML tooling with the community.\\nTransformers\\n144,078\\nState-of-the-art ML for PyTorch, TensorFlow, JAX\\nDiffusers\\n28,903\\nState-of-the-art Diffusion models in PyTorch\\nSafetensors\\n3,255\\nSafe way to store/distribute neural network weights\\nHub Python Library\\n2,587\\nPython client to interact with the Hugging Face Hub\\nTokenizers\\n9,668\\nFast tokenizers optimized for research & production\\nTRL\\n13,645\\nTrain transformers LMs with reinforcement learning\\nTransformers.js\\n13,559\\nState-of-the-art ML running directly in your browser\\nsmolagents\\n18,309\\nSmol library to build great agents in Python\\nPEFT\\n18,339\\nParameter-efficient finetuning for large language models\\nDatasets\\n20,089\\nAccess & share datasets for any ML tasks\\nText Generation Inference\\n10,098\\nServe language models with TGI optimized toolkit\\nAccelerate\\n8,693\\nTrain PyTorch models with multi-GPU, TPU, mixed precision\\nSystem theme\\nWebsite\\nModels\\nDatasets\\nSpaces\\nTasks\\nInference Endpoints\\nHuggingChat\\nCompany\\nAbout\\nBrand assets\\nTerms of service\\nPrivacy\\nJobs\\nPress\\nResources\\nLearn\\nDocumentation\\nBlog\\nForum\\nService Status\\nSocial\\nGitHub\\nTwitter\\nLinkedIn\\nDiscord\\nZhihu\\nWeChat\\n\\n\\n\\nabout page\\nWebpage Title:\\nabout (Sergei)\\nWebpage Contents:\\nHugging Face\\nModels\\nDatasets\\nSpaces\\nPosts\\nDocs\\nEnterprise\\nPricing\\nLog In\\nSign Up\\nSergei\\nabout\\nFollow\\njondelamothe's profile picture\\nselvivincent's profile picture\\nRenumathi's profile picture\\n5\\n\\t\\t\\t\\t\\tfollowers\\n·\\n0 following\\nAI & ML interests\\nNone yet\\nOrganizations\\nNone yet\\nmodels\\n0\\nNone public yet\\ndatasets\\n0\\nNone public yet\\nSystem theme\\nCompany\\nTOS\\nPrivacy\\nAbout\\nJobs\\nWebsite\\nModels\\nDatasets\\nSpaces\\nPricing\\nDocs\\n\\n\\n\\nenterprise\\nWebpage Title:\\nInference Endpoints by Hugging Face\\nWebpage Contents:\\nInference\\nEndpoints\\nCatalog\\nDocs\\nSupport\\nLog In\\nMachine Learning At Your Service\\nby\\nHugging Face\\nEasily deploy Transformers, Diffusers or any model on dedicated, fully managed\\n\\t\\t\\t\\tinfrastructure. Keep your costs low with our secure, compliant and flex\""
            ],
            "application/vnd.google.colaboratory.intrinsic+json": {
              "type": "string"
            }
          },
          "metadata": {},
          "execution_count": 93
        }
      ]
    },
    {
      "cell_type": "code",
      "source": [
        "def create_brochure(company_name, url):\n",
        "    response = ollama.chat(\n",
        "      model = \"llama3.2:1b\",\n",
        "     messages=[\n",
        "            {\"role\": \"system\", \"content\": system_prompt},\n",
        "            {\"role\": \"user\", \"content\": get_brochure_user_prompt(company_name, url)}\n",
        "      ])\n",
        "    result = response['message']['content']\n",
        "    display(Markdown(result))"
      ],
      "metadata": {
        "id": "5hR2iwfE7F51"
      },
      "execution_count": 94,
      "outputs": []
    },
    {
      "cell_type": "code",
      "source": [
        "create_brochure(\"HuggingFace\", \"https://huggingface.co\")"
      ],
      "metadata": {
        "colab": {
          "base_uri": "https://localhost:8080/",
          "height": 1000
        },
        "id": "_eHkQok17x7t",
        "outputId": "1bd68a79-cbd4-46d4-dc55-f908e827681e"
      },
      "execution_count": 98,
      "outputs": [
        {
          "output_type": "stream",
          "name": "stdout",
          "text": [
            "Found links: {'links': [{'type': 'about page', 'url': 'https://huggingface.co/about'}, {'type': 'enterprise', 'url': 'https://huggingface.co/enterprise'}, {'type': 'docs', 'url': 'https://huggingface.co/docs'}, {'type': 'brand', 'url': 'https://huggingface.co/brand'}]}\n"
          ]
        },
        {
          "output_type": "display_data",
          "data": {
            "text/plain": [
              "<IPython.core.display.Markdown object>"
            ],
            "text/markdown": "# Hugging Face: The AI Community Building The Future\n\n## Who We Are\n\nHugging Face is a community-driven platform for AI and machine learning. Our mission is to provide a collaborative space where researchers, developers, and enthusiasts can come together to share models, datasets, and applications.\n\n### Models\n\nWe have a vast collection of high-quality models available on our platform, including:\n\n* **NVIDIA/Parakeet-tdt-0.6b-v2**: A state-of-the-art language model trained on the Parakeet dataset.\n* **nari-labs/Dia-1.6B**: A large-scale language model that generates human-like text.\n\n### Datasets\n\nOur platform provides access to a vast library of datasets, including:\n\n* **NVIDIA/Nemotron-CrossThink**: A benchmark dataset for neural machine translation tasks.\n* **DMindAI/DMind_Benchmark**: A benchmark dataset for mathematical reasoning tasks.\n\n## Spaces\n\nWe offer a range of spaces where you can host and collaborate on unlimited public models, datasets, and applications. Some popular spaces include:\n\n* **DeepSite**: Generate any application with DeepSeek using our universal image editing tool.\n* **ICEdit**: Universal image editing is worth a single LoRA (lightfield array) update.\n\n## Pricing\n\nOur platform offers various pricing plans for different use cases:\n\n* **Compute**: Deploy on optimized inference endpoints or update your spaces applications to a GPU in a few clicks. Starting at $0.60/hour for GPU.\n* **Enterprise**: Give your team the most advanced platform to build AI with enterprise-grade security, access controls, and dedicated support. Starting at $20/user/month.\n\n## Jobs\n\nWe're always looking for talented individuals to join our team! Check out our job openings:\n\n* [Press](https://huggingface.co/press): Explore all modalities (text, image, video, audio or 3D) and build your portfolio.\n* [Compute](https://huggingface.co/compute): Deploy on optimized inference endpoints or update your spaces applications to a GPU in a few clicks.\n\n## Resources\n\nStay up-to-date with the latest news and updates from Hugging Face:\n\n* [Press](https://huggingface.co/press)\n* [Resources](https://huggingface.co/resources)\n\n## Learn\n\nCheck out our documentation, blog, forum, and social media channels to learn more about AI and machine learning:\n\n* [Documentation](https://huggingface.co/docs)\n* [Blog](https://blog.huggingface.com)\n* [Forum](https://forum.huggingface.com)\n* [Social](https://social.huggingface.com)\n\n## About\n\nWant to know more about Hugging Face? Here's a brief overview of our company:\n\n### About (Sergei)\n\nI'm the founder and CEO of Hugging Face. I'm passionate about AI and machine learning, and I believe that everyone should have access to this technology.\n\n### Follow\n\nFollow us on social media to stay up-to-date with the latest news and updates from Hugging Face:\n\n* [Twitter](https://twitter.com/huggingface)\n* [LinkedIn](https://linkedin.com/company/hugging-face/)\n* [Discord](https://discord.com/invite/hugging-face)\n\n## Terms of Service\n\nPlease read our terms of service before using our platform:\n\n[Terms of Service](https://huggingface.co/terms-of-service)"
          },
          "metadata": {}
        }
      ]
    },
    {
      "cell_type": "code",
      "source": [
        "def stream_brochure(company_name, url):\n",
        "    stream =  ollama.chat(\n",
        "      model = \"llama3.2:1b\",\n",
        "     messages=[\n",
        "            {\"role\": \"system\", \"content\": system_prompt},\n",
        "            {\"role\": \"user\", \"content\": get_brochure_user_prompt(company_name, url)}\n",
        "      ],\n",
        "        stream=True\n",
        "    )\n",
        "\n",
        "    response = \"\"\n",
        "    display_handle = display(Markdown(\"\"), display_id=True)\n",
        "    for chunk in stream:\n",
        "        # بررسی اینکه chunk اصلاً content داره یا نه\n",
        "        content_piece = getattr(chunk, 'message', {}).get('content', '')\n",
        "        response += content_piece\n",
        "        response = response.replace(\"```\", \"\").replace(\"markdown\", \"\")\n",
        "        update_display(Markdown(response), display_id=display_handle.display_id)"
      ],
      "metadata": {
        "id": "VQwS7BSQ7yzZ"
      },
      "execution_count": 99,
      "outputs": []
    },
    {
      "cell_type": "code",
      "source": [
        "stream_brochure(\"HuggingFace\", \"https://huggingface.co\")"
      ],
      "metadata": {
        "colab": {
          "base_uri": "https://localhost:8080/",
          "height": 1000
        },
        "id": "nlVWQCm38e88",
        "outputId": "4c8cfc86-7875-4c30-fccd-b703c5d889e8"
      },
      "execution_count": 100,
      "outputs": [
        {
          "output_type": "stream",
          "name": "stdout",
          "text": [
            "Found links: {'links': [{'type': 'about page', 'url': 'https://huggingface.co/about'}, {'type': 'enterprise', 'url': 'https://www.huggingface.co/enterprise'}, {'type': 'pricing', 'url': 'https://ui.endpoints.huggingface.co/pricing'}, {'type': 'docs', 'url': 'https://github.com/huggingface'}, {'type': 'docs/blog', 'url': 'https://discuss.huggingface.co'}, {'type': 'docs/trl', 'url': 'https://www.zhihu.com/org/huggingface'}]}\n"
          ]
        },
        {
          "output_type": "display_data",
          "data": {
            "text/plain": [
              "<IPython.core.display.Markdown object>"
            ],
            "text/markdown": "## Hugging Face: The AI Community Building the Future\n\n**The Platform Where Machine Learning Meets Collaboration**\n\nHugging Face is a community-driven platform built on machine learning, where researchers, developers, and businesses come together to share models, datasets, and applications. With over 1 million public models available, 250k+ datasets, and 50k+ organizations using Hugging Face AI, we're making it easy for everyone to accelerate their machine learning journey.\n\n### Models\n\nOur platform offers a wide range of models, including:\n\n* **State-of-the-art transformers**: State-of-the-art ML for PyTorch, TensorFlow, JAX\n* **Diffusers**: State-of-the-art Diffusion models in PyTorch\n* **Safetensors**: Safe way to store/distribute neural network weights\n* **Transformers.js**: State-of-the-art ML running directly in your browser\n\n### Datasets\n\nWe provide access to a vast collection of datasets, including:\n\n* **OpenMathReasoning**: Open Math Reasoning dataset for reinforcement learning\n* **OpenCodeReasoning**: Open Code Reasoning dataset for reasoning with neural networks\n* **Nemotron-CrossThink**: Nemotron-CrossThink dataset for machine learning\n\n### Spaces\n\nJoin our community of developers and researchers by creating or joining public spaces to:\n\n* **Host** models, datasets, and applications\n* **Collaborate** on AI projects\n* **Share knowledge** with the community\n\n### Jobs\n\nExplore job openings at Hugging Face, including roles in:\n\n* **Data Science**\n* **Machine Learning Engineering**\n* **Research Assistant**\n\n### Pricing\n\nGet started with our platform for free. Choose from our enterprise pricing plans, starting at $20/user/month.\n\n| Plan | Price |\n| --- | --- |\n| Individual | $0/hour |\n| Business | $10/user/month |\n| Enterprise | Custom quote |\n\n## Explore AI Apps\n\nBrowse over 1M+ models to generate applications in:\n\n* **Image Editing**\n* **Music Generation**\n* **Dialogue Systems**\n\nSome examples of AI apps you can build with Hugging Face include:\n\n* **Text-to-Speech**: Generate high-quality speech from text\n* **Language Translation**: Translate text and speech in real-time\n\n### Log In/Sign Up\n\nGet started today by logging in or signing up for our platform.\n\n| Feature | Value |\n| --- | --- |\n| Account Creation | Free |\n| Public Model Access | Unlimited |\n| Custom Spaces | Yes |\n\n## Sign Up\n\nReady to join the AI community? Click here to sign up and start exploring our platform.\n\n[Sign Up Form]\n\n### Enterprise Hub\n\nGet exclusive access to our enterprise-ready version of the world's leading AI platform. Subscribe for $20/user/month with your organization.\n\n| Plan | Price |\n| --- | --- |\n| Basic | $10/user/month |\n| Pro | $50/user/month |\n| Enterprise | Custom quote |\n\n## About Us\n\nLearn more about Hugging Face and our mission to accelerate machine learning.\n\n[About Page]\n\n### Terms of Service\n\nRead our terms of service to ensure you understand how we use your data.\n\n[Terms Of Service]\n\n### Privacy\n\nView our privacy policy to learn more about how we protect your data.\n\n[Privacy Policy]\n\n## Press\n\nStay up-to-date with the latest news and updates from Hugging Face.\n\n[Press Page]\n\n### Resources\n\nDiscover more resources, including documentation, blogs, and a forum for the AI community.\n\n[Resources Page]\n\n### Social\n\nConnect with us on social media to stay updated on our latest developments.\n\n[Social Media Links]"
          },
          "metadata": {}
        }
      ]
    },
    {
      "cell_type": "code",
      "source": [
        "# Try changing the system prompt to the humorous version when you make the Brochure for Hugging Face:\n",
        "stream_brochure(\"HuggingFace\", \"https://huggingface.co\")"
      ],
      "metadata": {
        "id": "AH4J7gjr-g_N"
      },
      "execution_count": null,
      "outputs": []
    },
    {
      "cell_type": "markdown",
      "source": [
        "## Translate to Persian"
      ],
      "metadata": {
        "id": "GWsWx8mHrrTI"
      }
    },
    {
      "cell_type": "code",
      "source": [
        "def get_brochure_Persian_user_prompt(company_name, url):\n",
        "    user_prompt = f\"You are looking at a company called: {company_name}\\n\"\n",
        "    user_prompt += f\"Here are the contents of its landing page and other relevant pages; use this information to build a short brochure in spanish of the team in markdown.\\n\"\n",
        "    user_prompt += get_all_details(url)\n",
        "    user_prompt = user_prompt[:40_000] # Truncate if more than 40,000 characters\n",
        "    return user_prompt"
      ],
      "metadata": {
        "id": "IRmwhILLrw9_"
      },
      "execution_count": 106,
      "outputs": []
    },
    {
      "cell_type": "code",
      "source": [
        "def stream_brochure_Persian(company_name, url):\n",
        "    stream =  ollama.chat(\n",
        "      model = \"llama3.2:1b\",\n",
        "     messages=[\n",
        "            {\"role\": \"system\", \"content\": system_prompt},\n",
        "            {\"role\": \"user\", \"content\": get_brochure_Persian_user_prompt(company_name, url)}\n",
        "      ],\n",
        "        stream=True\n",
        "    )\n",
        "\n",
        "    response = \"\"\n",
        "    display_handle = display(Markdown(\"\"), display_id=True)\n",
        "    for chunk in stream:\n",
        "        # بررسی اینکه chunk اصلاً content داره یا نه\n",
        "        content_piece = getattr(chunk, 'message', {}).get('content', '')\n",
        "        response += content_piece\n",
        "        response = response.replace(\"```\", \"\").replace(\"markdown\", \"\")\n",
        "        update_display(Markdown(response), display_id=display_handle.display_id)"
      ],
      "metadata": {
        "id": "8RYNW-pLsHJC"
      },
      "execution_count": 102,
      "outputs": []
    },
    {
      "cell_type": "code",
      "source": [
        "stream_brochure_Persian(\"HuggingFace\", \"https://huggingface.co\")"
      ],
      "metadata": {
        "id": "rTxujvwxuGIt"
      },
      "execution_count": null,
      "outputs": []
    },
    {
      "cell_type": "code",
      "source": [
        "!ollama pull deepseek-r1:1.5b"
      ],
      "metadata": {
        "colab": {
          "base_uri": "https://localhost:8080/"
        },
        "id": "CMg22TkQuJlT",
        "outputId": "19bd938b-03c1-4dc2-8476-30483085c3b4"
      },
      "execution_count": 103,
      "outputs": [
        {
          "output_type": "stream",
          "name": "stdout",
          "text": [
            "\u001b[?2026h\u001b[?25l\u001b[1Gpulling manifest ⠋ \u001b[K\u001b[?25h\u001b[?2026l\u001b[?2026h\u001b[?25l\u001b[1Gpulling manifest ⠙ \u001b[K\u001b[?25h\u001b[?2026l\u001b[?2026h\u001b[?25l\u001b[1Gpulling manifest ⠹ \u001b[K\u001b[?25h\u001b[?2026l\u001b[?2026h\u001b[?25l\u001b[1Gpulling manifest ⠸ \u001b[K\u001b[?25h\u001b[?2026l\u001b[?2026h\u001b[?25l\u001b[1Gpulling manifest ⠼ \u001b[K\u001b[?25h\u001b[?2026l\u001b[?2026h\u001b[?25l\u001b[1Gpulling manifest ⠴ \u001b[K\u001b[?25h\u001b[?2026l\u001b[?2026h\u001b[?25l\u001b[1Gpulling manifest ⠦ \u001b[K\u001b[?25h\u001b[?2026l\u001b[?2026h\u001b[?25l\u001b[1Gpulling manifest ⠧ \u001b[K\u001b[?25h\u001b[?2026l\u001b[?2026h\u001b[?25l\u001b[1Gpulling manifest ⠇ \u001b[K\u001b[?25h\u001b[?2026l\u001b[?2026h\u001b[?25l\u001b[1Gpulling manifest ⠏ \u001b[K\u001b[?25h\u001b[?2026l\u001b[?2026h\u001b[?25l\u001b[1Gpulling manifest ⠋ \u001b[K\u001b[?25h\u001b[?2026l\u001b[?2026h\u001b[?25l\u001b[1Gpulling manifest ⠙ \u001b[K\u001b[?25h\u001b[?2026l\u001b[?2026h\u001b[?25l\u001b[1Gpulling manifest ⠹ \u001b[K\u001b[?25h\u001b[?2026l\u001b[?2026h\u001b[?25l\u001b[1Gpulling manifest ⠸ \u001b[K\u001b[?25h\u001b[?2026l\u001b[?2026h\u001b[?25l\u001b[1Gpulling manifest ⠼ \u001b[K\u001b[?25h\u001b[?2026l\u001b[?2026h\u001b[?25l\u001b[1Gpulling manifest \u001b[K\n",
            "pulling aabd4debf0c8: 100% ▕▏ 1.1 GB                         \u001b[K\n",
            "pulling 369ca498f347: 100% ▕▏  387 B                         \u001b[K\n",
            "pulling 6e4c38e1172f: 100% ▕▏ 1.1 KB                         \u001b[K\n",
            "pulling f4d24e9138dd: 100% ▕▏  148 B                         \u001b[K\n",
            "pulling a85fe2a2e58e: 100% ▕▏  487 B                         \u001b[K\n",
            "verifying sha256 digest \u001b[K\n",
            "writing manifest \u001b[K\n",
            "success \u001b[K\u001b[?25h\u001b[?2026l\n"
          ]
        }
      ]
    },
    {
      "cell_type": "code",
      "source": [
        "!ollama pull deepseek-v3"
      ],
      "metadata": {
        "id": "X1R3t7Gy0brj"
      },
      "execution_count": null,
      "outputs": []
    },
    {
      "cell_type": "code",
      "source": [
        "def stream_brochure_Persian1(company_name, url):\n",
        "    stream =  ollama.chat(\n",
        "      model = \"deepseek-v3\",\n",
        "     messages=[\n",
        "            {\"role\": \"system\", \"content\": system_prompt},\n",
        "            {\"role\": \"user\", \"content\": get_brochure_Persian_user_prompt(company_name, url)}\n",
        "      ],\n",
        "        stream=True\n",
        "    )\n",
        "\n",
        "    response = \"\"\n",
        "    display_handle = display(Markdown(\"\"), display_id=True)\n",
        "    for chunk in stream:\n",
        "        # بررسی اینکه chunk اصلاً content داره یا نه\n",
        "        content_piece = getattr(chunk, 'message', {}).get('content', '')\n",
        "        response += content_piece\n",
        "        response = response.replace(\"```\", \"\").replace(\"markdown\", \"\")\n",
        "        update_display(Markdown(response), display_id=display_handle.display_id)"
      ],
      "metadata": {
        "id": "I-6dV3hkvhhq"
      },
      "execution_count": 107,
      "outputs": []
    },
    {
      "cell_type": "code",
      "source": [
        "stream_brochure_Persian1(\"HuggingFace\", \"https://huggingface.co\")"
      ],
      "metadata": {
        "id": "kwRmuQ0zwOBe"
      },
      "execution_count": null,
      "outputs": []
    },
    {
      "cell_type": "code",
      "source": [],
      "metadata": {
        "id": "2PpTZHfRwQ1V"
      },
      "execution_count": null,
      "outputs": []
    }
  ]
}