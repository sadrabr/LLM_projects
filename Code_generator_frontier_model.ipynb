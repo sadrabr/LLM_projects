{
  "nbformat": 4,
  "nbformat_minor": 0,
  "metadata": {
    "colab": {
      "provenance": [],
      "authorship_tag": "ABX9TyNf8MBVG5074I7BpsBQkqut",
      "include_colab_link": true
    },
    "kernelspec": {
      "name": "python3",
      "display_name": "Python 3"
    },
    "language_info": {
      "name": "python"
    }
  },
  "cells": [
    {
      "cell_type": "markdown",
      "metadata": {
        "id": "view-in-github",
        "colab_type": "text"
      },
      "source": [
        "<a href=\"https://colab.research.google.com/github/sadrabr/LLM_projects/blob/main/Code_generator_frontier_model.ipynb\" target=\"_parent\"><img src=\"https://colab.research.google.com/assets/colab-badge.svg\" alt=\"Open In Colab\"/></a>"
      ]
    },
    {
      "cell_type": "code",
      "source": [
        "!pip install -q openai\n",
        "!pip install -q google-generativeai\n",
        "!pip install -q anthropic\n",
        "!pip install -q gradio"
      ],
      "metadata": {
        "id": "f06HCHaCQc-D"
      },
      "execution_count": 29,
      "outputs": []
    },
    {
      "cell_type": "code",
      "source": [
        "# imports\n",
        "\n",
        "import os\n",
        "import io\n",
        "import sys\n",
        "from openai import OpenAI\n",
        "import google.generativeai as genai\n",
        "import anthropic\n",
        "from IPython.display import Markdown, display, update_display\n",
        "import gradio as gr\n",
        "import subprocess"
      ],
      "metadata": {
        "id": "3e4-c7Z0Oc75"
      },
      "execution_count": 30,
      "outputs": []
    },
    {
      "cell_type": "code",
      "source": [
        "# Sign in to frontier model using Secrets in Colab\n",
        "\n",
        "from google.colab import userdata\n",
        "\n",
        "openai_api_key = userdata.get('OPEN_AI')\n",
        "openai = OpenAI(api_key=openai_api_key)\n",
        "\n",
        "anthropic_api_key = userdata.get('ANTHROPIC_AI')\n",
        "claude = anthropic.Anthropic(api_key=anthropic_api_key)\n",
        "\n",
        "google_api_key = userdata.get('GEMINI_API')\n",
        "gemini = genai.configure(api_key=google_api_key)"
      ],
      "metadata": {
        "id": "75uM0V18SLYb"
      },
      "execution_count": 31,
      "outputs": []
    },
    {
      "cell_type": "code",
      "source": [
        "# Iitialize\n",
        "\n",
        "OPENAI_MODEL = \"gpt-4o\"\n",
        "CLAUDE_MODEL = \"claude-3-5-sonnet-20240620\"\n",
        "GEMINI_MODEL=\"gemini-2.5-flash-preview-04-17\""
      ],
      "metadata": {
        "id": "NPHjNUSkVMhT"
      },
      "execution_count": 52,
      "outputs": []
    },
    {
      "cell_type": "code",
      "source": [
        "system_message = \"You are an assistant that reimplements Python code in high performance C++ for an T4 GPU on google colab. \"\n",
        "system_message += \"Respond only with C++ code; use comments sparingly and do not provide any explanation other than occasional comments. \"\n",
        "system_message += \"The C++ response needs to produce an identical output in the fastest possible time.\""
      ],
      "metadata": {
        "id": "mQn4QNM7WEpd"
      },
      "execution_count": 33,
      "outputs": []
    },
    {
      "cell_type": "code",
      "source": [
        "def user_prompt_for(python):\n",
        "    user_prompt = \"Rewrite this Python code in C++ with the fastest possible implementation that produces identical output in the least time. \"\n",
        "    user_prompt += \"Respond only with C++ code; do not explain your work other than a few comments. \"\n",
        "    user_prompt += \"Pay attention to number types to ensure no int overflows. Remember to #include all necessary C++ packages such as iomanip.\\n\\n\"\n",
        "    user_prompt += python\n",
        "    return user_prompt"
      ],
      "metadata": {
        "id": "6JAPe75nWFd5"
      },
      "execution_count": 34,
      "outputs": []
    },
    {
      "cell_type": "code",
      "source": [
        "def messages_for(python):\n",
        "    return [\n",
        "        {\"role\": \"system\", \"content\": system_message},\n",
        "        {\"role\": \"user\", \"content\": user_prompt_for(python)}\n",
        "    ]"
      ],
      "metadata": {
        "id": "CyL9yF1votDr"
      },
      "execution_count": 35,
      "outputs": []
    },
    {
      "cell_type": "code",
      "source": [
        "def convert_messages_to_prompt(messages):\n",
        "    return \"\\n\\n\".join(f\"{m['role'].capitalize()}: {m['content']}\" for m in messages)"
      ],
      "metadata": {
        "id": "fK22akxxxF4B"
      },
      "execution_count": 62,
      "outputs": []
    },
    {
      "cell_type": "code",
      "source": [
        "def write_output(cpp):\n",
        "    code = cpp.replace(\"```cpp\",\"\").replace(\"```\",\"\")\n",
        "    with open(\"optimized.cpp\", \"w\") as f:\n",
        "        f.write(code)"
      ],
      "metadata": {
        "id": "GVl9hO9NowNO"
      },
      "execution_count": 36,
      "outputs": []
    },
    {
      "cell_type": "code",
      "source": [
        "def stream_gpt(python):\n",
        "    stream = openai.chat.completions.create(model=OPENAI_MODEL, messages=messages_for(python), stream=True)\n",
        "    reply = \"\"\n",
        "    for chunk in stream:\n",
        "        fragment = chunk.choices[0].delta.content or \"\"\n",
        "        reply += fragment\n",
        "        yield reply.replace('```cpp\\n','').replace('```','')"
      ],
      "metadata": {
        "id": "4EA6dCmcozzE"
      },
      "execution_count": 37,
      "outputs": []
    },
    {
      "cell_type": "code",
      "source": [
        "def stream_claude(python):\n",
        "    result = claude.messages.stream(\n",
        "        model=CLAUDE_MODEL,\n",
        "        max_tokens=2000,\n",
        "        system=system_message,\n",
        "        messages=[{\"role\": \"user\", \"content\": user_prompt_for(python)}],\n",
        "    )\n",
        "    reply = \"\"\n",
        "    with result as stream:\n",
        "        for text in stream.text_stream:\n",
        "            reply += text\n",
        "            yield reply.replace('```cpp\\n','').replace('```','')"
      ],
      "metadata": {
        "id": "zwp28mOiqs7H"
      },
      "execution_count": 38,
      "outputs": []
    },
    {
      "cell_type": "code",
      "source": [
        "def stream_gemini(python):\n",
        "    model = genai.GenerativeModel(GEMINI_MODEL)\n",
        "    prompt = convert_messages_to_prompt(messages_for(python))\n",
        "\n",
        "    try:\n",
        "        response = model.generate_content(prompt, stream=True)\n",
        "\n",
        "        reply = \"\"\n",
        "        for chunk in response:\n",
        "            if hasattr(chunk, 'text') and chunk.text:\n",
        "                print(chunk.text, end='', flush=True)\n",
        "                reply += chunk.text\n",
        "\n",
        "        if not reply.strip():\n",
        "            print(\"\\n❌ No content received from Gemini.\")\n",
        "        else:\n",
        "            write_output(reply)\n",
        "\n",
        "    except Exception as e:\n",
        "        print(f\"\\n⚠️ Error during generation: {e}\")"
      ],
      "metadata": {
        "id": "QytnO_8-y8lH"
      },
      "execution_count": 71,
      "outputs": []
    },
    {
      "cell_type": "code",
      "source": [
        "pi = \"\"\"\n",
        "import time\n",
        "\n",
        "def calculate(iterations, param1, param2):\n",
        "    result = 1.0\n",
        "    for i in range(1, iterations+1):\n",
        "        j = i * param1 - param2\n",
        "        result -= (1/j)\n",
        "        j = i * param1 + param2\n",
        "        result += (1/j)\n",
        "    return result\n",
        "\n",
        "start_time = time.time()\n",
        "result = calculate(100_000_000, 4, 1) * 4\n",
        "end_time = time.time()\n",
        "\n",
        "print(f\"Result: {result:.12f}\")\n",
        "print(f\"Execution Time: {(end_time - start_time):.6f} seconds\")\n",
        "\"\"\""
      ],
      "metadata": {
        "id": "A_tI-eBCsNQS"
      },
      "execution_count": 40,
      "outputs": []
    },
    {
      "cell_type": "code",
      "source": [
        "exec(pi)"
      ],
      "metadata": {
        "id": "K5ku4n6PsaPu"
      },
      "execution_count": 41,
      "outputs": []
    },
    {
      "cell_type": "code",
      "source": [
        "stream_gemini(pi)"
      ],
      "metadata": {
        "colab": {
          "base_uri": "https://localhost:8080/",
          "height": 815
        },
        "id": "Wi5lXHW6sa4d",
        "outputId": "35404fdf-5bc4-46bc-9248-55300b26a209"
      },
      "execution_count": 72,
      "outputs": [
        {
          "output_type": "stream",
          "name": "stdout",
          "text": [
            "```cpp\n",
            "#include <iostream>\n",
            "#include <iomanip>\n",
            "#include <chrono>\n",
            "\n",
            "// Function to perform the calculation\n",
            "double calculate(long long iterations, int param1, int param2) {\n",
            "    double result = 1.0;\n",
            "    for (long long i = 1; i <= iterations; ++i) {\n",
            "        // Use long long for j to prevent overflow with large i * param1\n",
            "        long long j1 = i * param1 - param2;\n",
            "        result -= (1.0 / j1); // Perform floating-point division\n",
            "\n",
            "        long long j2 = i * param1 + param2;\n",
            "        result += (1.0 / j2); // Perform floating-point division\n",
            "    }\n",
            "    return result;\n",
            "}\n",
            "\n",
            "int main() {\n",
            "    // Use long long for iterations as per Python example (100 million)\n",
            "    long long iterations = 100000000;\n",
            "    int param1 = 4;\n",
            "    int param2 = 1;\n",
            "\n",
            "    // Record start time\n",
            "    auto start_time = std::chrono::high_resolution_clock::now();\n",
            "\n",
            "    // Perform the calculation\n",
            "    double result = calculate(iterations, param1, param2) * 4;\n",
            "\n",
            "    // Record end time\n",
            "    auto end_time = std::chrono::high_resolution_clock::now();\n",
            "\n",
            "    // Calculate duration\n",
            "    std::chrono::duration<double> elapsed = end_time - start_time;\n",
            "\n",
            "    // Print the result formatted to 12 decimal places\n",
            "    std::cout << \"Result: \" << std::fixed << std::setprecision(12) << result << std::endl;\n",
            "\n",
            "    // Print the execution time formatted to 6 decimal places\n",
            "    std::cout << \"Execution Time: \" << std::fixed << std::setprecision(6) << elapsed.count() << \" seconds\" << std::endl;\n",
            "\n",
            "    return 0;\n",
            "}\n",
            "```"
          ]
        }
      ]
    },
    {
      "cell_type": "code",
      "source": [
        "!clang++ -O3 -std=c++17 -march=native -o optimized optimized.cpp\n",
        "!./optimized"
      ],
      "metadata": {
        "colab": {
          "base_uri": "https://localhost:8080/"
        },
        "id": "aOCiQaVbskU0",
        "outputId": "9bfc8476-d82e-4c90-9192-619f5855ac47"
      },
      "execution_count": 66,
      "outputs": [
        {
          "output_type": "stream",
          "name": "stdout",
          "text": [
            "Result: 3.141592658589\n",
            "Execution Time: 0.303772 seconds\n"
          ]
        }
      ]
    },
    {
      "cell_type": "code",
      "source": [
        "def optimize(python, model):\n",
        "    if model==\"GPT\":\n",
        "        result = stream_gpt(python)\n",
        "    elif model==\"Claude\":\n",
        "        result = stream_claude(python)\n",
        "    elif model==\"GEMINI\":\n",
        "        result = stream_gemini(python)\n",
        "    else:\n",
        "        raise ValueError(\"Unknown model\")\n",
        "    for stream_so_far in result:\n",
        "        yield stream_so_far"
      ],
      "metadata": {
        "id": "WjznhIIO1SLB"
      },
      "execution_count": 75,
      "outputs": []
    },
    {
      "cell_type": "code",
      "source": [
        "with gr.Blocks() as ui:\n",
        "    with gr.Row():\n",
        "        python = gr.Textbox(label=\"Python code:\", lines=10, value=pi)\n",
        "        cpp = gr.Textbox(label=\"C++ code:\", lines=10)\n",
        "    with gr.Row():\n",
        "        model = gr.Dropdown([\"GPT\", \"Claude\",\"GEMINI\"], label=\"Select model\", value=\"GPT\")\n",
        "        convert = gr.Button(\"Convert code\")\n",
        "\n",
        "    convert.click(optimize, inputs=[python, model], outputs=[cpp])\n",
        "\n",
        "ui.launch(inbrowser=True)"
      ],
      "metadata": {
        "id": "pPkLgLKd2jvT"
      },
      "execution_count": null,
      "outputs": []
    },
    {
      "cell_type": "code",
      "source": [
        "def execute_python(code):\n",
        "    try:\n",
        "        output = io.StringIO()\n",
        "        sys.stdout = output\n",
        "        exec(code)\n",
        "    finally:\n",
        "        sys.stdout = sys.__stdout__\n",
        "    return output.getvalue()"
      ],
      "metadata": {
        "id": "lCJ28Ufz3b1x"
      },
      "execution_count": 77,
      "outputs": []
    },
    {
      "cell_type": "code",
      "source": [
        "import subprocess\n",
        "\n",
        "def execute_cpp(code):\n",
        "    write_output(code)\n",
        "    try:\n",
        "        compile_cmd = [\n",
        "            \"clang++\",\n",
        "            \"-Ofast\",\n",
        "            \"-std=c++17\",\n",
        "            \"-march=native\",  # تطبیق با معماری x86_64 سیستم Colab\n",
        "            \"-o\", \"optimized\",\n",
        "            \"optimized.cpp\"\n",
        "        ]\n",
        "        compile_result = subprocess.run(compile_cmd, check=True, text=True, capture_output=True)\n",
        "\n",
        "        run_cmd = [\"./optimized\"]\n",
        "        run_result = subprocess.run(run_cmd, check=True, text=True, capture_output=True)\n",
        "\n",
        "        return run_result.stdout\n",
        "\n",
        "    except subprocess.CalledProcessError as e:\n",
        "        return f\"❌ An error occurred:\\n{e.stderr}\"\n"
      ],
      "metadata": {
        "id": "NMU4V71M3oJ3"
      },
      "execution_count": 78,
      "outputs": []
    },
    {
      "cell_type": "code",
      "source": [
        "css = \"\"\"\n",
        ".python {background-color: #306998;}\n",
        ".cpp {background-color: #050;}\n",
        "\"\"\""
      ],
      "metadata": {
        "id": "9SDP0mI54I6-"
      },
      "execution_count": 79,
      "outputs": []
    },
    {
      "cell_type": "code",
      "source": [
        "with gr.Blocks(css=css) as ui:\n",
        "    gr.Markdown(\"## Convert code from Python to C++\")\n",
        "    with gr.Row():\n",
        "        python = gr.Textbox(label=\"Python code:\", value=pi, lines=10)\n",
        "        cpp = gr.Textbox(label=\"C++ code:\", lines=10)\n",
        "    with gr.Row():\n",
        "        model = gr.Dropdown([\"GPT\", \"Claude\",\"GEMINI\"], label=\"Select model\", value=\"GPT\")\n",
        "    with gr.Row():\n",
        "        convert = gr.Button(\"Convert code\")\n",
        "    with gr.Row():\n",
        "        python_run = gr.Button(\"Run Python\")\n",
        "        cpp_run = gr.Button(\"Run C++\")\n",
        "    with gr.Row():\n",
        "        python_out = gr.TextArea(label=\"Python result:\", elem_classes=[\"python\"])\n",
        "        cpp_out = gr.TextArea(label=\"C++ result:\", elem_classes=[\"cpp\"])\n",
        "\n",
        "    convert.click(optimize, inputs=[python, model], outputs=[cpp])\n",
        "    python_run.click(execute_python, inputs=[python], outputs=[python_out])\n",
        "    cpp_run.click(execute_cpp, inputs=[cpp], outputs=[cpp_out])\n",
        "\n",
        "ui.launch(inbrowser=True)"
      ],
      "metadata": {
        "colab": {
          "base_uri": "https://localhost:8080/",
          "height": 646
        },
        "id": "qWPYSHOu4JfS",
        "outputId": "750578e1-cea2-4d31-8b2b-ae692ffa378b"
      },
      "execution_count": 81,
      "outputs": [
        {
          "output_type": "stream",
          "name": "stdout",
          "text": [
            "It looks like you are running Gradio on a hosted a Jupyter notebook. For the Gradio app to work, sharing must be enabled. Automatically setting `share=True` (you can turn this off by setting `share=False` in `launch()` explicitly).\n",
            "\n",
            "Colab notebook detected. To show errors in colab notebook, set debug=True in launch()\n",
            "* Running on public URL: https://870692fba2e164a0eb.gradio.live\n",
            "\n",
            "This share link expires in 1 week. For free permanent hosting and GPU upgrades, run `gradio deploy` from the terminal in the working directory to deploy to Hugging Face Spaces (https://huggingface.co/spaces)\n"
          ]
        },
        {
          "output_type": "display_data",
          "data": {
            "text/plain": [
              "<IPython.core.display.HTML object>"
            ],
            "text/html": [
              "<div><iframe src=\"https://870692fba2e164a0eb.gradio.live\" width=\"100%\" height=\"500\" allow=\"autoplay; camera; microphone; clipboard-read; clipboard-write;\" frameborder=\"0\" allowfullscreen></iframe></div>"
            ]
          },
          "metadata": {}
        },
        {
          "output_type": "execute_result",
          "data": {
            "text/plain": []
          },
          "metadata": {},
          "execution_count": 81
        }
      ]
    }
  ]
}