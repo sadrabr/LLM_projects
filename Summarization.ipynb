{
  "nbformat": 4,
  "nbformat_minor": 0,
  "metadata": {
    "colab": {
      "provenance": [],
      "gpuType": "T4",
      "authorship_tag": "ABX9TyN5kTLgFrNnuow3PcrT2nsk",
      "include_colab_link": true
    },
    "kernelspec": {
      "name": "python3",
      "display_name": "Python 3"
    },
    "language_info": {
      "name": "python"
    },
    "accelerator": "GPU"
  },
  "cells": [
    {
      "cell_type": "markdown",
      "metadata": {
        "id": "view-in-github",
        "colab_type": "text"
      },
      "source": [
        "<a href=\"https://colab.research.google.com/github/sadrabr/LLM_projects/blob/main/Summarization.ipynb\" target=\"_parent\"><img src=\"https://colab.research.google.com/assets/colab-badge.svg\" alt=\"Open In Colab\"/></a>"
      ]
    },
    {
      "cell_type": "code",
      "source": [
        "# Install requirement\n",
        "!pip install python-dotenv"
      ],
      "metadata": {
        "colab": {
          "base_uri": "https://localhost:8080/"
        },
        "id": "rbwTKJUhwp_8",
        "outputId": "ac8e8e89-0e2e-4188-8459-d54888479836"
      },
      "execution_count": null,
      "outputs": [
        {
          "output_type": "stream",
          "name": "stdout",
          "text": [
            "Collecting python-dotenv\n",
            "  Downloading python_dotenv-1.1.0-py3-none-any.whl.metadata (24 kB)\n",
            "Downloading python_dotenv-1.1.0-py3-none-any.whl (20 kB)\n",
            "Installing collected packages: python-dotenv\n",
            "Successfully installed python-dotenv-1.1.0\n"
          ]
        }
      ]
    },
    {
      "cell_type": "markdown",
      "source": [
        "### import"
      ],
      "metadata": {
        "id": "7rD-CIrYurKL"
      }
    },
    {
      "cell_type": "code",
      "source": [
        "import os\n",
        "import requests\n",
        "from dotenv import load_dotenv\n",
        "from bs4 import BeautifulSoup\n",
        "from IPython.display import Markdown, display\n",
        "from openai import OpenAI"
      ],
      "metadata": {
        "id": "FsKREvj1wXdR"
      },
      "execution_count": null,
      "outputs": []
    },
    {
      "cell_type": "code",
      "source": [
        "# load_dotenv(override=True)\n",
        "# api_key = os.getenv('OPENAI_API_KEY')\n",
        "\n",
        "# # Check the key\n",
        "\n",
        "# if not api_key:\n",
        "#     print(\"No API key was found - please head over to the troubleshooting notebook in this folder to identify & fix!\")\n",
        "# elif not api_key.startswith(\"sk-proj-\"):\n",
        "#     print(\"An API key was found, but it doesn't start sk-proj-; please check you're using the right key - see troubleshooting notebook\")\n",
        "# elif api_key.strip() != api_key:\n",
        "#     print(\"An API key was found, but it looks like it might have space or tab characters at the start or end - please remove them - see troubleshooting notebook\")\n",
        "# else:\n",
        "#     print(\"API key found and looks good so far!\")"
      ],
      "metadata": {
        "id": "PQEtvp9bwc4r"
      },
      "execution_count": null,
      "outputs": []
    },
    {
      "cell_type": "code",
      "source": [
        "!curl -fsSL https://ollama.com/install.sh | sh"
      ],
      "metadata": {
        "colab": {
          "base_uri": "https://localhost:8080/"
        },
        "id": "iRIMqJnmC8aO",
        "outputId": "d7356e79-6900-46b1-a03b-e56e678e1632"
      },
      "execution_count": null,
      "outputs": [
        {
          "output_type": "stream",
          "name": "stdout",
          "text": [
            ">>> Installing ollama to /usr/local\n",
            ">>> Downloading Linux amd64 bundle\n",
            "######################################################################## 100.0%\n",
            ">>> Creating ollama user...\n",
            ">>> Adding ollama user to video group...\n",
            ">>> Adding current user to ollama group...\n",
            ">>> Creating ollama systemd service...\n",
            "\u001b[1m\u001b[31mWARNING:\u001b[m systemd is not running\n",
            "\u001b[1m\u001b[31mWARNING:\u001b[m Unable to detect NVIDIA/AMD GPU. Install lspci or lshw to automatically detect and install GPU dependencies.\n",
            ">>> The Ollama API is now available at 127.0.0.1:11434.\n",
            ">>> Install complete. Run \"ollama\" from the command line.\n"
          ]
        }
      ]
    },
    {
      "cell_type": "code",
      "source": [
        "# Start Ollama server\n",
        "\n",
        "import subprocess\n",
        "\n",
        "# Start the command in a background process\n",
        "process = subprocess.Popen([\"ollama\", \"serve\"])\n",
        "\n",
        "# The kernel can continue execution while the process runs in the background\n",
        "print(\"The 'ollama serve' process is running in the background.\")"
      ],
      "metadata": {
        "colab": {
          "base_uri": "https://localhost:8080/"
        },
        "id": "ODY6HdxGDMs_",
        "outputId": "9d6632d3-3f82-4173-9b7e-5be07482b0b6"
      },
      "execution_count": null,
      "outputs": [
        {
          "output_type": "stream",
          "name": "stdout",
          "text": [
            "The 'ollama serve' process is running in the background.\n"
          ]
        }
      ]
    },
    {
      "cell_type": "code",
      "source": [
        "# Download the model that we want to use - this might take a couple of mins\n",
        "# The exclamation mark at the start of the line indicates that this is a shell command, not python\n",
        "\n",
        "!ollama pull llama3.2:1b"
      ],
      "metadata": {
        "colab": {
          "base_uri": "https://localhost:8080/"
        },
        "id": "Bpsq2xxVDQp-",
        "outputId": "ff194b61-3bc4-44af-e920-a69e7756ffee"
      },
      "execution_count": null,
      "outputs": [
        {
          "output_type": "stream",
          "name": "stdout",
          "text": [
            "\u001b[?2026h\u001b[?25l\u001b[1Gpulling manifest ⠋ \u001b[K\u001b[?25h\u001b[?2026l\u001b[?2026h\u001b[?25l\u001b[1Gpulling manifest ⠙ \u001b[K\u001b[?25h\u001b[?2026l\u001b[?2026h\u001b[?25l\u001b[1Gpulling manifest ⠹ \u001b[K\u001b[?25h\u001b[?2026l\u001b[?2026h\u001b[?25l\u001b[1Gpulling manifest ⠸ \u001b[K\u001b[?25h\u001b[?2026l\u001b[?2026h\u001b[?25l\u001b[1Gpulling manifest ⠼ \u001b[K\u001b[?25h\u001b[?2026l\u001b[?2026h\u001b[?25l\u001b[1Gpulling manifest ⠴ \u001b[K\u001b[?25h\u001b[?2026l\u001b[?2026h\u001b[?25l\u001b[1Gpulling manifest ⠦ \u001b[K\u001b[?25h\u001b[?2026l\u001b[?2026h\u001b[?25l\u001b[1Gpulling manifest ⠧ \u001b[K\u001b[?25h\u001b[?2026l\u001b[?2026h\u001b[?25l\u001b[1Gpulling manifest ⠇ \u001b[K\u001b[?25h\u001b[?2026l\u001b[?2026h\u001b[?25l\u001b[1Gpulling manifest ⠏ \u001b[K\u001b[?25h\u001b[?2026l\u001b[?2026h\u001b[?25l\u001b[1Gpulling manifest \u001b[K\n",
            "pulling 74701a8c35f6:   0% ▕▏ 4.7 MB/1.3 GB                  \u001b[K\u001b[?25h\u001b[?2026l\u001b[?2026h\u001b[?25l\u001b[A\u001b[1Gpulling manifest \u001b[K\n",
            "pulling 74701a8c35f6:   3% ▕▏  39 MB/1.3 GB                  \u001b[K\u001b[?25h\u001b[?2026l\u001b[?2026h\u001b[?25l\u001b[A\u001b[1Gpulling manifest \u001b[K\n",
            "pulling 74701a8c35f6:   4% ▕▏  50 MB/1.3 GB                  \u001b[K\u001b[?25h\u001b[?2026l\u001b[?2026h\u001b[?25l\u001b[A\u001b[1Gpulling manifest \u001b[K\n",
            "pulling 74701a8c35f6:   6% ▕▏  75 MB/1.3 GB                  \u001b[K\u001b[?25h\u001b[?2026l\u001b[?2026h\u001b[?25l\u001b[A\u001b[1Gpulling manifest \u001b[K\n",
            "pulling 74701a8c35f6:   9% ▕▏ 119 MB/1.3 GB                  \u001b[K\u001b[?25h\u001b[?2026l\u001b[?2026h\u001b[?25l\u001b[A\u001b[1Gpulling manifest \u001b[K\n",
            "pulling 74701a8c35f6:  10% ▕▏ 132 MB/1.3 GB                  \u001b[K\u001b[?25h\u001b[?2026l\u001b[?2026h\u001b[?25l\u001b[A\u001b[1Gpulling manifest \u001b[K\n",
            "pulling 74701a8c35f6:  13% ▕▏ 165 MB/1.3 GB                  \u001b[K\u001b[?25h\u001b[?2026l\u001b[?2026h\u001b[?25l\u001b[A\u001b[1Gpulling manifest \u001b[K\n",
            "pulling 74701a8c35f6:  15% ▕▏ 198 MB/1.3 GB                  \u001b[K\u001b[?25h\u001b[?2026l\u001b[?2026h\u001b[?25l\u001b[A\u001b[1Gpulling manifest \u001b[K\n",
            "pulling 74701a8c35f6:  17% ▕▏ 219 MB/1.3 GB                  \u001b[K\u001b[?25h\u001b[?2026l\u001b[?2026h\u001b[?25l\u001b[A\u001b[1Gpulling manifest \u001b[K\n",
            "pulling 74701a8c35f6:  19% ▕▏ 251 MB/1.3 GB                  \u001b[K\u001b[?25h\u001b[?2026l\u001b[?2026h\u001b[?25l\u001b[A\u001b[1Gpulling manifest \u001b[K\n",
            "pulling 74701a8c35f6:  21% ▕▏ 280 MB/1.3 GB  276 MB/s      3s\u001b[K\u001b[?25h\u001b[?2026l\u001b[?2026h\u001b[?25l\u001b[A\u001b[1Gpulling manifest \u001b[K\n",
            "pulling 74701a8c35f6:  22% ▕▏ 296 MB/1.3 GB  276 MB/s      3s\u001b[K\u001b[?25h\u001b[?2026l\u001b[?2026h\u001b[?25l\u001b[A\u001b[1Gpulling manifest \u001b[K\n",
            "pulling 74701a8c35f6:  24% ▕▏ 323 MB/1.3 GB  276 MB/s      3s\u001b[K\u001b[?25h\u001b[?2026l\u001b[?2026h\u001b[?25l\u001b[A\u001b[1Gpulling manifest \u001b[K\n",
            "pulling 74701a8c35f6:  28% ▕▏ 369 MB/1.3 GB  276 MB/s      3s\u001b[K\u001b[?25h\u001b[?2026l\u001b[?2026h\u001b[?25l\u001b[A\u001b[1Gpulling manifest \u001b[K\n",
            "pulling 74701a8c35f6:  29% ▕▏ 381 MB/1.3 GB  276 MB/s      3s\u001b[K\u001b[?25h\u001b[?2026l\u001b[?2026h\u001b[?25l\u001b[A\u001b[1Gpulling manifest \u001b[K\n",
            "pulling 74701a8c35f6:  32% ▕▏ 428 MB/1.3 GB  276 MB/s      3s\u001b[K\u001b[?25h\u001b[?2026l\u001b[?2026h\u001b[?25l\u001b[A\u001b[1Gpulling manifest \u001b[K\n",
            "pulling 74701a8c35f6:  35% ▕▏ 462 MB/1.3 GB  276 MB/s      3s\u001b[K\u001b[?25h\u001b[?2026l\u001b[?2026h\u001b[?25l\u001b[A\u001b[1Gpulling manifest \u001b[K\n",
            "pulling 74701a8c35f6:  37% ▕▏ 482 MB/1.3 GB  276 MB/s      3s\u001b[K\u001b[?25h\u001b[?2026l\u001b[?2026h\u001b[?25l\u001b[A\u001b[1Gpulling manifest \u001b[K\n",
            "pulling 74701a8c35f6:  40% ▕▏ 532 MB/1.3 GB  276 MB/s      2s\u001b[K\u001b[?25h\u001b[?2026l\u001b[?2026h\u001b[?25l\u001b[A\u001b[1Gpulling manifest \u001b[K\n",
            "pulling 74701a8c35f6:  43% ▕▏ 562 MB/1.3 GB  276 MB/s      2s\u001b[K\u001b[?25h\u001b[?2026l\u001b[?2026h\u001b[?25l\u001b[A\u001b[1Gpulling manifest \u001b[K\n",
            "pulling 74701a8c35f6:  45% ▕▏ 595 MB/1.3 GB  276 MB/s      2s\u001b[K\u001b[?25h\u001b[?2026l\u001b[?2026h\u001b[?25l\u001b[A\u001b[1Gpulling manifest \u001b[K\n",
            "pulling 74701a8c35f6:  46% ▕▏ 603 MB/1.3 GB  296 MB/s      2s\u001b[K\u001b[?25h\u001b[?2026l\u001b[?2026h\u001b[?25l\u001b[A\u001b[1Gpulling manifest \u001b[K\n",
            "pulling 74701a8c35f6:  49% ▕▏ 643 MB/1.3 GB  296 MB/s      2s\u001b[K\u001b[?25h\u001b[?2026l\u001b[?2026h\u001b[?25l\u001b[A\u001b[1Gpulling manifest \u001b[K\n",
            "pulling 74701a8c35f6:  50% ▕▏ 663 MB/1.3 GB  296 MB/s      2s\u001b[K\u001b[?25h\u001b[?2026l\u001b[?2026h\u001b[?25l\u001b[A\u001b[1Gpulling manifest \u001b[K\n",
            "pulling 74701a8c35f6:  53% ▕▏ 701 MB/1.3 GB  296 MB/s      2s\u001b[K\u001b[?25h\u001b[?2026l\u001b[?2026h\u001b[?25l\u001b[A\u001b[1Gpulling manifest \u001b[K\n",
            "pulling 74701a8c35f6:  54% ▕▏ 709 MB/1.3 GB  296 MB/s      2s\u001b[K\u001b[?25h\u001b[?2026l\u001b[?2026h\u001b[?25l\u001b[A\u001b[1Gpulling manifest \u001b[K\n",
            "pulling 74701a8c35f6:  56% ▕▏ 737 MB/1.3 GB  296 MB/s      1s\u001b[K\u001b[?25h\u001b[?2026l\u001b[?2026h\u001b[?25l\u001b[A\u001b[1Gpulling manifest \u001b[K\n",
            "pulling 74701a8c35f6:  59% ▕▏ 774 MB/1.3 GB  296 MB/s      1s\u001b[K\u001b[?25h\u001b[?2026l\u001b[?2026h\u001b[?25l\u001b[A\u001b[1Gpulling manifest \u001b[K\n",
            "pulling 74701a8c35f6:  61% ▕▏ 807 MB/1.3 GB  296 MB/s      1s\u001b[K\u001b[?25h\u001b[?2026l\u001b[?2026h\u001b[?25l\u001b[A\u001b[1Gpulling manifest \u001b[K\n",
            "pulling 74701a8c35f6:  61% ▕▏ 811 MB/1.3 GB  296 MB/s      1s\u001b[K\u001b[?25h\u001b[?2026l\u001b[?2026h\u001b[?25l\u001b[A\u001b[1Gpulling manifest \u001b[K\n",
            "pulling 74701a8c35f6:  65% ▕▏ 855 MB/1.3 GB  296 MB/s      1s\u001b[K\u001b[?25h\u001b[?2026l\u001b[?2026h\u001b[?25l\u001b[A\u001b[1Gpulling manifest \u001b[K\n",
            "pulling 74701a8c35f6:  66% ▕▏ 873 MB/1.3 GB  283 MB/s      1s\u001b[K\u001b[?25h\u001b[?2026l\u001b[?2026h\u001b[?25l\u001b[A\u001b[1Gpulling manifest \u001b[K\n",
            "pulling 74701a8c35f6:  68% ▕▏ 897 MB/1.3 GB  283 MB/s      1s\u001b[K\u001b[?25h\u001b[?2026l\u001b[?2026h\u001b[?25l\u001b[A\u001b[1Gpulling manifest \u001b[K\n",
            "pulling 74701a8c35f6:  70% ▕▏ 920 MB/1.3 GB  283 MB/s      1s\u001b[K\u001b[?25h\u001b[?2026l\u001b[?2026h\u001b[?25l\u001b[A\u001b[1Gpulling manifest \u001b[K\n",
            "pulling 74701a8c35f6:  72% ▕▏ 951 MB/1.3 GB  283 MB/s      1s\u001b[K\u001b[?25h\u001b[?2026l\u001b[?2026h\u001b[?25l\u001b[A\u001b[1Gpulling manifest \u001b[K\n",
            "pulling 74701a8c35f6:  72% ▕▏ 957 MB/1.3 GB  283 MB/s      1s\u001b[K\u001b[?25h\u001b[?2026l\u001b[?2026h\u001b[?25l\u001b[A\u001b[1Gpulling manifest \u001b[K\n",
            "pulling 74701a8c35f6:  72% ▕▏ 957 MB/1.3 GB  283 MB/s      1s\u001b[K\u001b[?25h\u001b[?2026l\u001b[?2026h\u001b[?25l\u001b[A\u001b[1Gpulling manifest \u001b[K\n",
            "pulling 74701a8c35f6:  75% ▕▏ 994 MB/1.3 GB  283 MB/s      1s\u001b[K\u001b[?25h\u001b[?2026l\u001b[?2026h\u001b[?25l\u001b[A\u001b[1Gpulling manifest \u001b[K\n",
            "pulling 74701a8c35f6:  76% ▕▏ 1.0 GB/1.3 GB  283 MB/s      1s\u001b[K\u001b[?25h\u001b[?2026l\u001b[?2026h\u001b[?25l\u001b[A\u001b[1Gpulling manifest \u001b[K\n",
            "pulling 74701a8c35f6:  76% ▕▏ 1.0 GB/1.3 GB  283 MB/s      1s\u001b[K\u001b[?25h\u001b[?2026l\u001b[?2026h\u001b[?25l\u001b[A\u001b[1Gpulling manifest \u001b[K\n",
            "pulling 74701a8c35f6:  76% ▕▏ 1.0 GB/1.3 GB  283 MB/s      1s\u001b[K\u001b[?25h\u001b[?2026l\u001b[?2026h\u001b[?25l\u001b[A\u001b[1Gpulling manifest \u001b[K\n",
            "pulling 74701a8c35f6:  77% ▕▏ 1.0 GB/1.3 GB  251 MB/s      1s\u001b[K\u001b[?25h\u001b[?2026l\u001b[?2026h\u001b[?25l\u001b[A\u001b[1Gpulling manifest \u001b[K\n",
            "pulling 74701a8c35f6:  77% ▕▏ 1.0 GB/1.3 GB  251 MB/s      1s\u001b[K\u001b[?25h\u001b[?2026l\u001b[?2026h\u001b[?25l\u001b[A\u001b[1Gpulling manifest \u001b[K\n",
            "pulling 74701a8c35f6:  77% ▕▏ 1.0 GB/1.3 GB  251 MB/s      1s\u001b[K\u001b[?25h\u001b[?2026l\u001b[?2026h\u001b[?25l\u001b[A\u001b[1Gpulling manifest \u001b[K\n",
            "pulling 74701a8c35f6:  77% ▕▏ 1.0 GB/1.3 GB  251 MB/s      1s\u001b[K\u001b[?25h\u001b[?2026l\u001b[?2026h\u001b[?25l\u001b[A\u001b[1Gpulling manifest \u001b[K\n",
            "pulling 74701a8c35f6:  77% ▕▏ 1.0 GB/1.3 GB  251 MB/s      1s\u001b[K\u001b[?25h\u001b[?2026l\u001b[?2026h\u001b[?25l\u001b[A\u001b[1Gpulling manifest \u001b[K\n",
            "pulling 74701a8c35f6:  77% ▕▏ 1.0 GB/1.3 GB  251 MB/s      1s\u001b[K\u001b[?25h\u001b[?2026l\u001b[?2026h\u001b[?25l\u001b[A\u001b[1Gpulling manifest \u001b[K\n",
            "pulling 74701a8c35f6:  77% ▕▏ 1.0 GB/1.3 GB  251 MB/s      1s\u001b[K\u001b[?25h\u001b[?2026l\u001b[?2026h\u001b[?25l\u001b[A\u001b[1Gpulling manifest \u001b[K\n",
            "pulling 74701a8c35f6:  77% ▕▏ 1.0 GB/1.3 GB  251 MB/s      1s\u001b[K\u001b[?25h\u001b[?2026l\u001b[?2026h\u001b[?25l\u001b[A\u001b[1Gpulling manifest \u001b[K\n",
            "pulling 74701a8c35f6:  77% ▕▏ 1.0 GB/1.3 GB  251 MB/s      1s\u001b[K\u001b[?25h\u001b[?2026l\u001b[?2026h\u001b[?25l\u001b[A\u001b[1Gpulling manifest \u001b[K\n",
            "pulling 74701a8c35f6:  77% ▕▏ 1.0 GB/1.3 GB  251 MB/s      1s\u001b[K\u001b[?25h\u001b[?2026l\u001b[?2026h\u001b[?25l\u001b[A\u001b[1Gpulling manifest \u001b[K\n",
            "pulling 74701a8c35f6:  77% ▕▏ 1.0 GB/1.3 GB  202 MB/s      1s\u001b[K\u001b[?25h\u001b[?2026l\u001b[?2026h\u001b[?25l\u001b[A\u001b[1Gpulling manifest \u001b[K\n",
            "pulling 74701a8c35f6:  77% ▕▏ 1.0 GB/1.3 GB  202 MB/s      1s\u001b[K\u001b[?25h\u001b[?2026l\u001b[?2026h\u001b[?25l\u001b[A\u001b[1Gpulling manifest \u001b[K\n",
            "pulling 74701a8c35f6:  77% ▕▏ 1.0 GB/1.3 GB  202 MB/s      1s\u001b[K\u001b[?25h\u001b[?2026l\u001b[?2026h\u001b[?25l\u001b[A\u001b[1Gpulling manifest \u001b[K\n",
            "pulling 74701a8c35f6:  77% ▕▏ 1.0 GB/1.3 GB  202 MB/s      1s\u001b[K\u001b[?25h\u001b[?2026l\u001b[?2026h\u001b[?25l\u001b[A\u001b[1Gpulling manifest \u001b[K\n",
            "pulling 74701a8c35f6:  77% ▕▏ 1.0 GB/1.3 GB  202 MB/s      1s\u001b[K\u001b[?25h\u001b[?2026l\u001b[?2026h\u001b[?25l\u001b[A\u001b[1Gpulling manifest \u001b[K\n",
            "pulling 74701a8c35f6:  77% ▕▏ 1.0 GB/1.3 GB  202 MB/s      1s\u001b[K\u001b[?25h\u001b[?2026l\u001b[?2026h\u001b[?25l\u001b[A\u001b[1Gpulling manifest \u001b[K\n",
            "pulling 74701a8c35f6:  77% ▕▏ 1.0 GB/1.3 GB  202 MB/s      1s\u001b[K\u001b[?25h\u001b[?2026l\u001b[?2026h\u001b[?25l\u001b[A\u001b[1Gpulling manifest \u001b[K\n",
            "pulling 74701a8c35f6:  77% ▕▏ 1.0 GB/1.3 GB  202 MB/s      1s\u001b[K\u001b[?25h\u001b[?2026l\u001b[?2026h\u001b[?25l\u001b[A\u001b[1Gpulling manifest \u001b[K\n",
            "pulling 74701a8c35f6:  81% ▕▏ 1.1 GB/1.3 GB  202 MB/s      1s\u001b[K\u001b[?25h\u001b[?2026l\u001b[?2026h\u001b[?25l\u001b[A\u001b[1Gpulling manifest \u001b[K\n",
            "pulling 74701a8c35f6:  86% ▕▏ 1.1 GB/1.3 GB  202 MB/s      0s\u001b[K\u001b[?25h\u001b[?2026l\u001b[?2026h\u001b[?25l\u001b[A\u001b[1Gpulling manifest \u001b[K\n",
            "pulling 74701a8c35f6:  89% ▕▏ 1.2 GB/1.3 GB  194 MB/s      0s\u001b[K\u001b[?25h\u001b[?2026l\u001b[?2026h\u001b[?25l\u001b[A\u001b[1Gpulling manifest \u001b[K\n",
            "pulling 74701a8c35f6:  90% ▕▏ 1.2 GB/1.3 GB  194 MB/s      0s\u001b[K\u001b[?25h\u001b[?2026l\u001b[?2026h\u001b[?25l\u001b[A\u001b[1Gpulling manifest \u001b[K\n",
            "pulling 74701a8c35f6:  93% ▕▏ 1.2 GB/1.3 GB  194 MB/s      0s\u001b[K\u001b[?25h\u001b[?2026l\u001b[?2026h\u001b[?25l\u001b[A\u001b[1Gpulling manifest \u001b[K\n",
            "pulling 74701a8c35f6:  97% ▕▏ 1.3 GB/1.3 GB  194 MB/s      0s\u001b[K\u001b[?25h\u001b[?2026l\u001b[?2026h\u001b[?25l\u001b[A\u001b[1Gpulling manifest \u001b[K\n",
            "pulling 74701a8c35f6:  98% ▕▏ 1.3 GB/1.3 GB  194 MB/s      0s\u001b[K\u001b[?25h\u001b[?2026l\u001b[?2026h\u001b[?25l\u001b[A\u001b[1Gpulling manifest \u001b[K\n",
            "pulling 74701a8c35f6: 100% ▕▏ 1.3 GB/1.3 GB  194 MB/s      0s\u001b[K\u001b[?25h\u001b[?2026l\u001b[?2026h\u001b[?25l\u001b[A\u001b[1Gpulling manifest \u001b[K\n",
            "pulling 74701a8c35f6: 100% ▕▏ 1.3 GB                         \u001b[K\u001b[?25h\u001b[?2026l\u001b[?2026h\u001b[?25l\u001b[A\u001b[1Gpulling manifest \u001b[K\n",
            "pulling 74701a8c35f6: 100% ▕▏ 1.3 GB                         \u001b[K\u001b[?25h\u001b[?2026l\u001b[?2026h\u001b[?25l\u001b[A\u001b[1Gpulling manifest \u001b[K\n",
            "pulling 74701a8c35f6: 100% ▕▏ 1.3 GB                         \u001b[K\u001b[?25h\u001b[?2026l\u001b[?2026h\u001b[?25l\u001b[A\u001b[1Gpulling manifest \u001b[K\n",
            "pulling 74701a8c35f6: 100% ▕▏ 1.3 GB                         \u001b[K\u001b[?25h\u001b[?2026l\u001b[?2026h\u001b[?25l\u001b[A\u001b[1Gpulling manifest \u001b[K\n",
            "pulling 74701a8c35f6: 100% ▕▏ 1.3 GB                         \u001b[K\u001b[?25h\u001b[?2026l\u001b[?2026h\u001b[?25l\u001b[A\u001b[1Gpulling manifest \u001b[K\n",
            "pulling 74701a8c35f6: 100% ▕▏ 1.3 GB                         \u001b[K\u001b[?25h\u001b[?2026l\u001b[?2026h\u001b[?25l\u001b[A\u001b[1Gpulling manifest \u001b[K\n",
            "pulling 74701a8c35f6: 100% ▕▏ 1.3 GB                         \u001b[K\n",
            "pulling 966de95ca8a6: 100% ▕▏ 1.4 KB                         \u001b[K\u001b[?25h\u001b[?2026l\u001b[?2026h\u001b[?25l\u001b[A\u001b[A\u001b[1Gpulling manifest \u001b[K\n",
            "pulling 74701a8c35f6: 100% ▕▏ 1.3 GB                         \u001b[K\n",
            "pulling 966de95ca8a6: 100% ▕▏ 1.4 KB                         \u001b[K\u001b[?25h\u001b[?2026l\u001b[?2026h\u001b[?25l\u001b[A\u001b[A\u001b[1Gpulling manifest \u001b[K\n",
            "pulling 74701a8c35f6: 100% ▕▏ 1.3 GB                         \u001b[K\n",
            "pulling 966de95ca8a6: 100% ▕▏ 1.4 KB                         \u001b[K\u001b[?25h\u001b[?2026l\u001b[?2026h\u001b[?25l\u001b[A\u001b[A\u001b[1Gpulling manifest \u001b[K\n",
            "pulling 74701a8c35f6: 100% ▕▏ 1.3 GB                         \u001b[K\n",
            "pulling 966de95ca8a6: 100% ▕▏ 1.4 KB                         \u001b[K\u001b[?25h\u001b[?2026l\u001b[?2026h\u001b[?25l\u001b[A\u001b[A\u001b[1Gpulling manifest \u001b[K\n",
            "pulling 74701a8c35f6: 100% ▕▏ 1.3 GB                         \u001b[K\n",
            "pulling 966de95ca8a6: 100% ▕▏ 1.4 KB                         \u001b[K\u001b[?25h\u001b[?2026l\u001b[?2026h\u001b[?25l\u001b[A\u001b[A\u001b[1Gpulling manifest \u001b[K\n",
            "pulling 74701a8c35f6: 100% ▕▏ 1.3 GB                         \u001b[K\n",
            "pulling 966de95ca8a6: 100% ▕▏ 1.4 KB                         \u001b[K\u001b[?25h\u001b[?2026l\u001b[?2026h\u001b[?25l\u001b[A\u001b[A\u001b[1Gpulling manifest \u001b[K\n",
            "pulling 74701a8c35f6: 100% ▕▏ 1.3 GB                         \u001b[K\n",
            "pulling 966de95ca8a6: 100% ▕▏ 1.4 KB                         \u001b[K\u001b[?25h\u001b[?2026l\u001b[?2026h\u001b[?25l\u001b[A\u001b[A\u001b[1Gpulling manifest \u001b[K\n",
            "pulling 74701a8c35f6: 100% ▕▏ 1.3 GB                         \u001b[K\n",
            "pulling 966de95ca8a6: 100% ▕▏ 1.4 KB                         \u001b[K\u001b[?25h\u001b[?2026l\u001b[?2026h\u001b[?25l\u001b[A\u001b[A\u001b[1Gpulling manifest \u001b[K\n",
            "pulling 74701a8c35f6: 100% ▕▏ 1.3 GB                         \u001b[K\n",
            "pulling 966de95ca8a6: 100% ▕▏ 1.4 KB                         \u001b[K\u001b[?25h\u001b[?2026l\u001b[?2026h\u001b[?25l\u001b[A\u001b[A\u001b[1Gpulling manifest \u001b[K\n",
            "pulling 74701a8c35f6: 100% ▕▏ 1.3 GB                         \u001b[K\n",
            "pulling 966de95ca8a6: 100% ▕▏ 1.4 KB                         \u001b[K\u001b[?25h\u001b[?2026l\u001b[?2026h\u001b[?25l\u001b[A\u001b[A\u001b[1Gpulling manifest \u001b[K\n",
            "pulling 74701a8c35f6: 100% ▕▏ 1.3 GB                         \u001b[K\n",
            "pulling 966de95ca8a6: 100% ▕▏ 1.4 KB                         \u001b[K\u001b[?25h\u001b[?2026l\u001b[?2026h\u001b[?25l\u001b[A\u001b[A\u001b[1Gpulling manifest \u001b[K\n",
            "pulling 74701a8c35f6: 100% ▕▏ 1.3 GB                         \u001b[K\n",
            "pulling 966de95ca8a6: 100% ▕▏ 1.4 KB                         \u001b[K\u001b[?25h\u001b[?2026l\u001b[?2026h\u001b[?25l\u001b[A\u001b[A\u001b[1Gpulling manifest \u001b[K\n",
            "pulling 74701a8c35f6: 100% ▕▏ 1.3 GB                         \u001b[K\n",
            "pulling 966de95ca8a6: 100% ▕▏ 1.4 KB                         \u001b[K\u001b[?25h\u001b[?2026l\u001b[?2026h\u001b[?25l\u001b[A\u001b[A\u001b[1Gpulling manifest \u001b[K\n",
            "pulling 74701a8c35f6: 100% ▕▏ 1.3 GB                         \u001b[K\n",
            "pulling 966de95ca8a6: 100% ▕▏ 1.4 KB                         \u001b[K\u001b[?25h\u001b[?2026l\u001b[?2026h\u001b[?25l\u001b[A\u001b[A\u001b[1Gpulling manifest \u001b[K\n",
            "pulling 74701a8c35f6: 100% ▕▏ 1.3 GB                         \u001b[K\n",
            "pulling 966de95ca8a6: 100% ▕▏ 1.4 KB                         \u001b[K\u001b[?25h\u001b[?2026l\u001b[?2026h\u001b[?25l\u001b[A\u001b[A\u001b[1Gpulling manifest \u001b[K\n",
            "pulling 74701a8c35f6: 100% ▕▏ 1.3 GB                         \u001b[K\n",
            "pulling 966de95ca8a6: 100% ▕▏ 1.4 KB                         \u001b[K\u001b[?25h\u001b[?2026l\u001b[?2026h\u001b[?25l\u001b[A\u001b[A\u001b[1Gpulling manifest \u001b[K\n",
            "pulling 74701a8c35f6: 100% ▕▏ 1.3 GB                         \u001b[K\n",
            "pulling 966de95ca8a6: 100% ▕▏ 1.4 KB                         \u001b[K\n",
            "pulling fcc5a6bec9da: 100% ▕▏ 7.7 KB                         \u001b[K\u001b[?25h\u001b[?2026l\u001b[?2026h\u001b[?25l\u001b[A\u001b[A\u001b[A\u001b[1Gpulling manifest \u001b[K\n",
            "pulling 74701a8c35f6: 100% ▕▏ 1.3 GB                         \u001b[K\n",
            "pulling 966de95ca8a6: 100% ▕▏ 1.4 KB                         \u001b[K\n",
            "pulling fcc5a6bec9da: 100% ▕▏ 7.7 KB                         \u001b[K\u001b[?25h\u001b[?2026l\u001b[?2026h\u001b[?25l\u001b[A\u001b[A\u001b[A\u001b[1Gpulling manifest \u001b[K\n",
            "pulling 74701a8c35f6: 100% ▕▏ 1.3 GB                         \u001b[K\n",
            "pulling 966de95ca8a6: 100% ▕▏ 1.4 KB                         \u001b[K\n",
            "pulling fcc5a6bec9da: 100% ▕▏ 7.7 KB                         \u001b[K\u001b[?25h\u001b[?2026l\u001b[?2026h\u001b[?25l\u001b[A\u001b[A\u001b[A\u001b[1Gpulling manifest \u001b[K\n",
            "pulling 74701a8c35f6: 100% ▕▏ 1.3 GB                         \u001b[K\n",
            "pulling 966de95ca8a6: 100% ▕▏ 1.4 KB                         \u001b[K\n",
            "pulling fcc5a6bec9da: 100% ▕▏ 7.7 KB                         \u001b[K\u001b[?25h\u001b[?2026l\u001b[?2026h\u001b[?25l\u001b[A\u001b[A\u001b[A\u001b[1Gpulling manifest \u001b[K\n",
            "pulling 74701a8c35f6: 100% ▕▏ 1.3 GB                         \u001b[K\n",
            "pulling 966de95ca8a6: 100% ▕▏ 1.4 KB                         \u001b[K\n",
            "pulling fcc5a6bec9da: 100% ▕▏ 7.7 KB                         \u001b[K\u001b[?25h\u001b[?2026l\u001b[?2026h\u001b[?25l\u001b[A\u001b[A\u001b[A\u001b[1Gpulling manifest \u001b[K\n",
            "pulling 74701a8c35f6: 100% ▕▏ 1.3 GB                         \u001b[K\n",
            "pulling 966de95ca8a6: 100% ▕▏ 1.4 KB                         \u001b[K\n",
            "pulling fcc5a6bec9da: 100% ▕▏ 7.7 KB                         \u001b[K\u001b[?25h\u001b[?2026l\u001b[?2026h\u001b[?25l\u001b[A\u001b[A\u001b[A\u001b[1Gpulling manifest \u001b[K\n",
            "pulling 74701a8c35f6: 100% ▕▏ 1.3 GB                         \u001b[K\n",
            "pulling 966de95ca8a6: 100% ▕▏ 1.4 KB                         \u001b[K\n",
            "pulling fcc5a6bec9da: 100% ▕▏ 7.7 KB                         \u001b[K\u001b[?25h\u001b[?2026l\u001b[?2026h\u001b[?25l\u001b[A\u001b[A\u001b[A\u001b[1Gpulling manifest \u001b[K\n",
            "pulling 74701a8c35f6: 100% ▕▏ 1.3 GB                         \u001b[K\n",
            "pulling 966de95ca8a6: 100% ▕▏ 1.4 KB                         \u001b[K\n",
            "pulling fcc5a6bec9da: 100% ▕▏ 7.7 KB                         \u001b[K\u001b[?25h\u001b[?2026l\u001b[?2026h\u001b[?25l\u001b[A\u001b[A\u001b[A\u001b[1Gpulling manifest \u001b[K\n",
            "pulling 74701a8c35f6: 100% ▕▏ 1.3 GB                         \u001b[K\n",
            "pulling 966de95ca8a6: 100% ▕▏ 1.4 KB                         \u001b[K\n",
            "pulling fcc5a6bec9da: 100% ▕▏ 7.7 KB                         \u001b[K\u001b[?25h\u001b[?2026l\u001b[?2026h\u001b[?25l\u001b[A\u001b[A\u001b[A\u001b[1Gpulling manifest \u001b[K\n",
            "pulling 74701a8c35f6: 100% ▕▏ 1.3 GB                         \u001b[K\n",
            "pulling 966de95ca8a6: 100% ▕▏ 1.4 KB                         \u001b[K\n",
            "pulling fcc5a6bec9da: 100% ▕▏ 7.7 KB                         \u001b[K\u001b[?25h\u001b[?2026l\u001b[?2026h\u001b[?25l\u001b[A\u001b[A\u001b[A\u001b[1Gpulling manifest \u001b[K\n",
            "pulling 74701a8c35f6: 100% ▕▏ 1.3 GB                         \u001b[K\n",
            "pulling 966de95ca8a6: 100% ▕▏ 1.4 KB                         \u001b[K\n",
            "pulling fcc5a6bec9da: 100% ▕▏ 7.7 KB                         \u001b[K\u001b[?25h\u001b[?2026l\u001b[?2026h\u001b[?25l\u001b[A\u001b[A\u001b[A\u001b[1Gpulling manifest \u001b[K\n",
            "pulling 74701a8c35f6: 100% ▕▏ 1.3 GB                         \u001b[K\n",
            "pulling 966de95ca8a6: 100% ▕▏ 1.4 KB                         \u001b[K\n",
            "pulling fcc5a6bec9da: 100% ▕▏ 7.7 KB                         \u001b[K\u001b[?25h\u001b[?2026l\u001b[?2026h\u001b[?25l\u001b[A\u001b[A\u001b[A\u001b[1Gpulling manifest \u001b[K\n",
            "pulling 74701a8c35f6: 100% ▕▏ 1.3 GB                         \u001b[K\n",
            "pulling 966de95ca8a6: 100% ▕▏ 1.4 KB                         \u001b[K\n",
            "pulling fcc5a6bec9da: 100% ▕▏ 7.7 KB                         \u001b[K\u001b[?25h\u001b[?2026l\u001b[?2026h\u001b[?25l\u001b[A\u001b[A\u001b[A\u001b[1Gpulling manifest \u001b[K\n",
            "pulling 74701a8c35f6: 100% ▕▏ 1.3 GB                         \u001b[K\n",
            "pulling 966de95ca8a6: 100% ▕▏ 1.4 KB                         \u001b[K\n",
            "pulling fcc5a6bec9da: 100% ▕▏ 7.7 KB                         \u001b[K\n",
            "pulling a70ff7e570d9: 100% ▕▏ 6.0 KB                         \u001b[K\u001b[?25h\u001b[?2026l\u001b[?2026h\u001b[?25l\u001b[A\u001b[A\u001b[A\u001b[A\u001b[1Gpulling manifest \u001b[K\n",
            "pulling 74701a8c35f6: 100% ▕▏ 1.3 GB                         \u001b[K\n",
            "pulling 966de95ca8a6: 100% ▕▏ 1.4 KB                         \u001b[K\n",
            "pulling fcc5a6bec9da: 100% ▕▏ 7.7 KB                         \u001b[K\n",
            "pulling a70ff7e570d9: 100% ▕▏ 6.0 KB                         \u001b[K\u001b[?25h\u001b[?2026l\u001b[?2026h\u001b[?25l\u001b[A\u001b[A\u001b[A\u001b[A\u001b[1Gpulling manifest \u001b[K\n",
            "pulling 74701a8c35f6: 100% ▕▏ 1.3 GB                         \u001b[K\n",
            "pulling 966de95ca8a6: 100% ▕▏ 1.4 KB                         \u001b[K\n",
            "pulling fcc5a6bec9da: 100% ▕▏ 7.7 KB                         \u001b[K\n",
            "pulling a70ff7e570d9: 100% ▕▏ 6.0 KB                         \u001b[K\u001b[?25h\u001b[?2026l\u001b[?2026h\u001b[?25l\u001b[A\u001b[A\u001b[A\u001b[A\u001b[1Gpulling manifest \u001b[K\n",
            "pulling 74701a8c35f6: 100% ▕▏ 1.3 GB                         \u001b[K\n",
            "pulling 966de95ca8a6: 100% ▕▏ 1.4 KB                         \u001b[K\n",
            "pulling fcc5a6bec9da: 100% ▕▏ 7.7 KB                         \u001b[K\n",
            "pulling a70ff7e570d9: 100% ▕▏ 6.0 KB                         \u001b[K\u001b[?25h\u001b[?2026l\u001b[?2026h\u001b[?25l\u001b[A\u001b[A\u001b[A\u001b[A\u001b[1Gpulling manifest \u001b[K\n",
            "pulling 74701a8c35f6: 100% ▕▏ 1.3 GB                         \u001b[K\n",
            "pulling 966de95ca8a6: 100% ▕▏ 1.4 KB                         \u001b[K\n",
            "pulling fcc5a6bec9da: 100% ▕▏ 7.7 KB                         \u001b[K\n",
            "pulling a70ff7e570d9: 100% ▕▏ 6.0 KB                         \u001b[K\u001b[?25h\u001b[?2026l\u001b[?2026h\u001b[?25l\u001b[A\u001b[A\u001b[A\u001b[A\u001b[1Gpulling manifest \u001b[K\n",
            "pulling 74701a8c35f6: 100% ▕▏ 1.3 GB                         \u001b[K\n",
            "pulling 966de95ca8a6: 100% ▕▏ 1.4 KB                         \u001b[K\n",
            "pulling fcc5a6bec9da: 100% ▕▏ 7.7 KB                         \u001b[K\n",
            "pulling a70ff7e570d9: 100% ▕▏ 6.0 KB                         \u001b[K\u001b[?25h\u001b[?2026l\u001b[?2026h\u001b[?25l\u001b[A\u001b[A\u001b[A\u001b[A\u001b[1Gpulling manifest \u001b[K\n",
            "pulling 74701a8c35f6: 100% ▕▏ 1.3 GB                         \u001b[K\n",
            "pulling 966de95ca8a6: 100% ▕▏ 1.4 KB                         \u001b[K\n",
            "pulling fcc5a6bec9da: 100% ▕▏ 7.7 KB                         \u001b[K\n",
            "pulling a70ff7e570d9: 100% ▕▏ 6.0 KB                         \u001b[K\u001b[?25h\u001b[?2026l\u001b[?2026h\u001b[?25l\u001b[A\u001b[A\u001b[A\u001b[A\u001b[1Gpulling manifest \u001b[K\n",
            "pulling 74701a8c35f6: 100% ▕▏ 1.3 GB                         \u001b[K\n",
            "pulling 966de95ca8a6: 100% ▕▏ 1.4 KB                         \u001b[K\n",
            "pulling fcc5a6bec9da: 100% ▕▏ 7.7 KB                         \u001b[K\n",
            "pulling a70ff7e570d9: 100% ▕▏ 6.0 KB                         \u001b[K\u001b[?25h\u001b[?2026l\u001b[?2026h\u001b[?25l\u001b[A\u001b[A\u001b[A\u001b[A\u001b[1Gpulling manifest \u001b[K\n",
            "pulling 74701a8c35f6: 100% ▕▏ 1.3 GB                         \u001b[K\n",
            "pulling 966de95ca8a6: 100% ▕▏ 1.4 KB                         \u001b[K\n",
            "pulling fcc5a6bec9da: 100% ▕▏ 7.7 KB                         \u001b[K\n",
            "pulling a70ff7e570d9: 100% ▕▏ 6.0 KB                         \u001b[K\u001b[?25h\u001b[?2026l\u001b[?2026h\u001b[?25l\u001b[A\u001b[A\u001b[A\u001b[A\u001b[1Gpulling manifest \u001b[K\n",
            "pulling 74701a8c35f6: 100% ▕▏ 1.3 GB                         \u001b[K\n",
            "pulling 966de95ca8a6: 100% ▕▏ 1.4 KB                         \u001b[K\n",
            "pulling fcc5a6bec9da: 100% ▕▏ 7.7 KB                         \u001b[K\n",
            "pulling a70ff7e570d9: 100% ▕▏ 6.0 KB                         \u001b[K\u001b[?25h\u001b[?2026l\u001b[?2026h\u001b[?25l\u001b[A\u001b[A\u001b[A\u001b[A\u001b[1Gpulling manifest \u001b[K\n",
            "pulling 74701a8c35f6: 100% ▕▏ 1.3 GB                         \u001b[K\n",
            "pulling 966de95ca8a6: 100% ▕▏ 1.4 KB                         \u001b[K\n",
            "pulling fcc5a6bec9da: 100% ▕▏ 7.7 KB                         \u001b[K\n",
            "pulling a70ff7e570d9: 100% ▕▏ 6.0 KB                         \u001b[K\u001b[?25h\u001b[?2026l\u001b[?2026h\u001b[?25l\u001b[A\u001b[A\u001b[A\u001b[A\u001b[1Gpulling manifest \u001b[K\n",
            "pulling 74701a8c35f6: 100% ▕▏ 1.3 GB                         \u001b[K\n",
            "pulling 966de95ca8a6: 100% ▕▏ 1.4 KB                         \u001b[K\n",
            "pulling fcc5a6bec9da: 100% ▕▏ 7.7 KB                         \u001b[K\n",
            "pulling a70ff7e570d9: 100% ▕▏ 6.0 KB                         \u001b[K\u001b[?25h\u001b[?2026l\u001b[?2026h\u001b[?25l\u001b[A\u001b[A\u001b[A\u001b[A\u001b[1Gpulling manifest \u001b[K\n",
            "pulling 74701a8c35f6: 100% ▕▏ 1.3 GB                         \u001b[K\n",
            "pulling 966de95ca8a6: 100% ▕▏ 1.4 KB                         \u001b[K\n",
            "pulling fcc5a6bec9da: 100% ▕▏ 7.7 KB                         \u001b[K\n",
            "pulling a70ff7e570d9: 100% ▕▏ 6.0 KB                         \u001b[K\u001b[?25h\u001b[?2026l\u001b[?2026h\u001b[?25l\u001b[A\u001b[A\u001b[A\u001b[A\u001b[1Gpulling manifest \u001b[K\n",
            "pulling 74701a8c35f6: 100% ▕▏ 1.3 GB                         \u001b[K\n",
            "pulling 966de95ca8a6: 100% ▕▏ 1.4 KB                         \u001b[K\n",
            "pulling fcc5a6bec9da: 100% ▕▏ 7.7 KB                         \u001b[K\n",
            "pulling a70ff7e570d9: 100% ▕▏ 6.0 KB                         \u001b[K\n",
            "pulling 4f659a1e86d7: 100% ▕▏  485 B                         \u001b[K\u001b[?25h\u001b[?2026l\u001b[?2026h\u001b[?25l\u001b[A\u001b[A\u001b[A\u001b[A\u001b[A\u001b[1Gpulling manifest \u001b[K\n",
            "pulling 74701a8c35f6: 100% ▕▏ 1.3 GB                         \u001b[K\n",
            "pulling 966de95ca8a6: 100% ▕▏ 1.4 KB                         \u001b[K\n",
            "pulling fcc5a6bec9da: 100% ▕▏ 7.7 KB                         \u001b[K\n",
            "pulling a70ff7e570d9: 100% ▕▏ 6.0 KB                         \u001b[K\n",
            "pulling 4f659a1e86d7: 100% ▕▏  485 B                         \u001b[K\u001b[?25h\u001b[?2026l\u001b[?2026h\u001b[?25l\u001b[A\u001b[A\u001b[A\u001b[A\u001b[A\u001b[1Gpulling manifest \u001b[K\n",
            "pulling 74701a8c35f6: 100% ▕▏ 1.3 GB                         \u001b[K\n",
            "pulling 966de95ca8a6: 100% ▕▏ 1.4 KB                         \u001b[K\n",
            "pulling fcc5a6bec9da: 100% ▕▏ 7.7 KB                         \u001b[K\n",
            "pulling a70ff7e570d9: 100% ▕▏ 6.0 KB                         \u001b[K\n",
            "pulling 4f659a1e86d7: 100% ▕▏  485 B                         \u001b[K\u001b[?25h\u001b[?2026l\u001b[?2026h\u001b[?25l\u001b[A\u001b[A\u001b[A\u001b[A\u001b[A\u001b[1Gpulling manifest \u001b[K\n",
            "pulling 74701a8c35f6: 100% ▕▏ 1.3 GB                         \u001b[K\n",
            "pulling 966de95ca8a6: 100% ▕▏ 1.4 KB                         \u001b[K\n",
            "pulling fcc5a6bec9da: 100% ▕▏ 7.7 KB                         \u001b[K\n",
            "pulling a70ff7e570d9: 100% ▕▏ 6.0 KB                         \u001b[K\n",
            "pulling 4f659a1e86d7: 100% ▕▏  485 B                         \u001b[K\u001b[?25h\u001b[?2026l\u001b[?2026h\u001b[?25l\u001b[A\u001b[A\u001b[A\u001b[A\u001b[A\u001b[1Gpulling manifest \u001b[K\n",
            "pulling 74701a8c35f6: 100% ▕▏ 1.3 GB                         \u001b[K\n",
            "pulling 966de95ca8a6: 100% ▕▏ 1.4 KB                         \u001b[K\n",
            "pulling fcc5a6bec9da: 100% ▕▏ 7.7 KB                         \u001b[K\n",
            "pulling a70ff7e570d9: 100% ▕▏ 6.0 KB                         \u001b[K\n",
            "pulling 4f659a1e86d7: 100% ▕▏  485 B                         \u001b[K\u001b[?25h\u001b[?2026l\u001b[?2026h\u001b[?25l\u001b[A\u001b[A\u001b[A\u001b[A\u001b[A\u001b[1Gpulling manifest \u001b[K\n",
            "pulling 74701a8c35f6: 100% ▕▏ 1.3 GB                         \u001b[K\n",
            "pulling 966de95ca8a6: 100% ▕▏ 1.4 KB                         \u001b[K\n",
            "pulling fcc5a6bec9da: 100% ▕▏ 7.7 KB                         \u001b[K\n",
            "pulling a70ff7e570d9: 100% ▕▏ 6.0 KB                         \u001b[K\n",
            "pulling 4f659a1e86d7: 100% ▕▏  485 B                         \u001b[K\u001b[?25h\u001b[?2026l\u001b[?2026h\u001b[?25l\u001b[A\u001b[A\u001b[A\u001b[A\u001b[A\u001b[1Gpulling manifest \u001b[K\n",
            "pulling 74701a8c35f6: 100% ▕▏ 1.3 GB                         \u001b[K\n",
            "pulling 966de95ca8a6: 100% ▕▏ 1.4 KB                         \u001b[K\n",
            "pulling fcc5a6bec9da: 100% ▕▏ 7.7 KB                         \u001b[K\n",
            "pulling a70ff7e570d9: 100% ▕▏ 6.0 KB                         \u001b[K\n",
            "pulling 4f659a1e86d7: 100% ▕▏  485 B                         \u001b[K\u001b[?25h\u001b[?2026l\u001b[?2026h\u001b[?25l\u001b[A\u001b[A\u001b[A\u001b[A\u001b[A\u001b[1Gpulling manifest \u001b[K\n",
            "pulling 74701a8c35f6: 100% ▕▏ 1.3 GB                         \u001b[K\n",
            "pulling 966de95ca8a6: 100% ▕▏ 1.4 KB                         \u001b[K\n",
            "pulling fcc5a6bec9da: 100% ▕▏ 7.7 KB                         \u001b[K\n",
            "pulling a70ff7e570d9: 100% ▕▏ 6.0 KB                         \u001b[K\n",
            "pulling 4f659a1e86d7: 100% ▕▏  485 B                         \u001b[K\u001b[?25h\u001b[?2026l\u001b[?2026h\u001b[?25l\u001b[A\u001b[A\u001b[A\u001b[A\u001b[A\u001b[1Gpulling manifest \u001b[K\n",
            "pulling 74701a8c35f6: 100% ▕▏ 1.3 GB                         \u001b[K\n",
            "pulling 966de95ca8a6: 100% ▕▏ 1.4 KB                         \u001b[K\n",
            "pulling fcc5a6bec9da: 100% ▕▏ 7.7 KB                         \u001b[K\n",
            "pulling a70ff7e570d9: 100% ▕▏ 6.0 KB                         \u001b[K\n",
            "pulling 4f659a1e86d7: 100% ▕▏  485 B                         \u001b[K\n",
            "verifying sha256 digest ⠋ \u001b[K\u001b[?25h\u001b[?2026l\u001b[?2026h\u001b[?25l\u001b[A\u001b[A\u001b[A\u001b[A\u001b[A\u001b[A\u001b[1Gpulling manifest \u001b[K\n",
            "pulling 74701a8c35f6: 100% ▕▏ 1.3 GB                         \u001b[K\n",
            "pulling 966de95ca8a6: 100% ▕▏ 1.4 KB                         \u001b[K\n",
            "pulling fcc5a6bec9da: 100% ▕▏ 7.7 KB                         \u001b[K\n",
            "pulling a70ff7e570d9: 100% ▕▏ 6.0 KB                         \u001b[K\n",
            "pulling 4f659a1e86d7: 100% ▕▏  485 B                         \u001b[K\n",
            "verifying sha256 digest ⠙ \u001b[K\u001b[?25h\u001b[?2026l\u001b[?2026h\u001b[?25l\u001b[A\u001b[A\u001b[A\u001b[A\u001b[A\u001b[A\u001b[1Gpulling manifest \u001b[K\n",
            "pulling 74701a8c35f6: 100% ▕▏ 1.3 GB                         \u001b[K\n",
            "pulling 966de95ca8a6: 100% ▕▏ 1.4 KB                         \u001b[K\n",
            "pulling fcc5a6bec9da: 100% ▕▏ 7.7 KB                         \u001b[K\n",
            "pulling a70ff7e570d9: 100% ▕▏ 6.0 KB                         \u001b[K\n",
            "pulling 4f659a1e86d7: 100% ▕▏  485 B                         \u001b[K\n",
            "verifying sha256 digest ⠹ \u001b[K\u001b[?25h\u001b[?2026l\u001b[?2026h\u001b[?25l\u001b[A\u001b[A\u001b[A\u001b[A\u001b[A\u001b[A\u001b[1Gpulling manifest \u001b[K\n",
            "pulling 74701a8c35f6: 100% ▕▏ 1.3 GB                         \u001b[K\n",
            "pulling 966de95ca8a6: 100% ▕▏ 1.4 KB                         \u001b[K\n",
            "pulling fcc5a6bec9da: 100% ▕▏ 7.7 KB                         \u001b[K\n",
            "pulling a70ff7e570d9: 100% ▕▏ 6.0 KB                         \u001b[K\n",
            "pulling 4f659a1e86d7: 100% ▕▏  485 B                         \u001b[K\n",
            "verifying sha256 digest ⠸ \u001b[K\u001b[?25h\u001b[?2026l\u001b[?2026h\u001b[?25l\u001b[A\u001b[A\u001b[A\u001b[A\u001b[A\u001b[A\u001b[1Gpulling manifest \u001b[K\n",
            "pulling 74701a8c35f6: 100% ▕▏ 1.3 GB                         \u001b[K\n",
            "pulling 966de95ca8a6: 100% ▕▏ 1.4 KB                         \u001b[K\n",
            "pulling fcc5a6bec9da: 100% ▕▏ 7.7 KB                         \u001b[K\n",
            "pulling a70ff7e570d9: 100% ▕▏ 6.0 KB                         \u001b[K\n",
            "pulling 4f659a1e86d7: 100% ▕▏  485 B                         \u001b[K\n",
            "verifying sha256 digest ⠼ \u001b[K\u001b[?25h\u001b[?2026l\u001b[?2026h\u001b[?25l\u001b[A\u001b[A\u001b[A\u001b[A\u001b[A\u001b[A\u001b[1Gpulling manifest \u001b[K\n",
            "pulling 74701a8c35f6: 100% ▕▏ 1.3 GB                         \u001b[K\n",
            "pulling 966de95ca8a6: 100% ▕▏ 1.4 KB                         \u001b[K\n",
            "pulling fcc5a6bec9da: 100% ▕▏ 7.7 KB                         \u001b[K\n",
            "pulling a70ff7e570d9: 100% ▕▏ 6.0 KB                         \u001b[K\n",
            "pulling 4f659a1e86d7: 100% ▕▏  485 B                         \u001b[K\n",
            "verifying sha256 digest ⠴ \u001b[K\u001b[?25h\u001b[?2026l\u001b[?2026h\u001b[?25l\u001b[A\u001b[A\u001b[A\u001b[A\u001b[A\u001b[A\u001b[1Gpulling manifest \u001b[K\n",
            "pulling 74701a8c35f6: 100% ▕▏ 1.3 GB                         \u001b[K\n",
            "pulling 966de95ca8a6: 100% ▕▏ 1.4 KB                         \u001b[K\n",
            "pulling fcc5a6bec9da: 100% ▕▏ 7.7 KB                         \u001b[K\n",
            "pulling a70ff7e570d9: 100% ▕▏ 6.0 KB                         \u001b[K\n",
            "pulling 4f659a1e86d7: 100% ▕▏  485 B                         \u001b[K\n",
            "verifying sha256 digest ⠦ \u001b[K\u001b[?25h\u001b[?2026l\u001b[?2026h\u001b[?25l\u001b[A\u001b[A\u001b[A\u001b[A\u001b[A\u001b[A\u001b[1Gpulling manifest \u001b[K\n",
            "pulling 74701a8c35f6: 100% ▕▏ 1.3 GB                         \u001b[K\n",
            "pulling 966de95ca8a6: 100% ▕▏ 1.4 KB                         \u001b[K\n",
            "pulling fcc5a6bec9da: 100% ▕▏ 7.7 KB                         \u001b[K\n",
            "pulling a70ff7e570d9: 100% ▕▏ 6.0 KB                         \u001b[K\n",
            "pulling 4f659a1e86d7: 100% ▕▏  485 B                         \u001b[K\n",
            "verifying sha256 digest ⠧ \u001b[K\u001b[?25h\u001b[?2026l\u001b[?2026h\u001b[?25l\u001b[A\u001b[A\u001b[A\u001b[A\u001b[A\u001b[A\u001b[1Gpulling manifest \u001b[K\n",
            "pulling 74701a8c35f6: 100% ▕▏ 1.3 GB                         \u001b[K\n",
            "pulling 966de95ca8a6: 100% ▕▏ 1.4 KB                         \u001b[K\n",
            "pulling fcc5a6bec9da: 100% ▕▏ 7.7 KB                         \u001b[K\n",
            "pulling a70ff7e570d9: 100% ▕▏ 6.0 KB                         \u001b[K\n",
            "pulling 4f659a1e86d7: 100% ▕▏  485 B                         \u001b[K\n",
            "verifying sha256 digest ⠇ \u001b[K\u001b[?25h\u001b[?2026l\u001b[?2026h\u001b[?25l\u001b[A\u001b[A\u001b[A\u001b[A\u001b[A\u001b[A\u001b[1Gpulling manifest \u001b[K\n",
            "pulling 74701a8c35f6: 100% ▕▏ 1.3 GB                         \u001b[K\n",
            "pulling 966de95ca8a6: 100% ▕▏ 1.4 KB                         \u001b[K\n",
            "pulling fcc5a6bec9da: 100% ▕▏ 7.7 KB                         \u001b[K\n",
            "pulling a70ff7e570d9: 100% ▕▏ 6.0 KB                         \u001b[K\n",
            "pulling 4f659a1e86d7: 100% ▕▏  485 B                         \u001b[K\n",
            "verifying sha256 digest ⠏ \u001b[K\u001b[?25h\u001b[?2026l\u001b[?2026h\u001b[?25l\u001b[A\u001b[A\u001b[A\u001b[A\u001b[A\u001b[A\u001b[1Gpulling manifest \u001b[K\n",
            "pulling 74701a8c35f6: 100% ▕▏ 1.3 GB                         \u001b[K\n",
            "pulling 966de95ca8a6: 100% ▕▏ 1.4 KB                         \u001b[K\n",
            "pulling fcc5a6bec9da: 100% ▕▏ 7.7 KB                         \u001b[K\n",
            "pulling a70ff7e570d9: 100% ▕▏ 6.0 KB                         \u001b[K\n",
            "pulling 4f659a1e86d7: 100% ▕▏  485 B                         \u001b[K\n",
            "verifying sha256 digest ⠋ \u001b[K\u001b[?25h\u001b[?2026l\u001b[?2026h\u001b[?25l\u001b[A\u001b[A\u001b[A\u001b[A\u001b[A\u001b[A\u001b[1Gpulling manifest \u001b[K\n",
            "pulling 74701a8c35f6: 100% ▕▏ 1.3 GB                         \u001b[K\n",
            "pulling 966de95ca8a6: 100% ▕▏ 1.4 KB                         \u001b[K\n",
            "pulling fcc5a6bec9da: 100% ▕▏ 7.7 KB                         \u001b[K\n",
            "pulling a70ff7e570d9: 100% ▕▏ 6.0 KB                         \u001b[K\n",
            "pulling 4f659a1e86d7: 100% ▕▏  485 B                         \u001b[K\n",
            "verifying sha256 digest ⠙ \u001b[K\u001b[?25h\u001b[?2026l\u001b[?2026h\u001b[?25l\u001b[A\u001b[A\u001b[A\u001b[A\u001b[A\u001b[A\u001b[1Gpulling manifest \u001b[K\n",
            "pulling 74701a8c35f6: 100% ▕▏ 1.3 GB                         \u001b[K\n",
            "pulling 966de95ca8a6: 100% ▕▏ 1.4 KB                         \u001b[K\n",
            "pulling fcc5a6bec9da: 100% ▕▏ 7.7 KB                         \u001b[K\n",
            "pulling a70ff7e570d9: 100% ▕▏ 6.0 KB                         \u001b[K\n",
            "pulling 4f659a1e86d7: 100% ▕▏  485 B                         \u001b[K\n",
            "verifying sha256 digest ⠹ \u001b[K\u001b[?25h\u001b[?2026l\u001b[?2026h\u001b[?25l\u001b[A\u001b[A\u001b[A\u001b[A\u001b[A\u001b[A\u001b[1Gpulling manifest \u001b[K\n",
            "pulling 74701a8c35f6: 100% ▕▏ 1.3 GB                         \u001b[K\n",
            "pulling 966de95ca8a6: 100% ▕▏ 1.4 KB                         \u001b[K\n",
            "pulling fcc5a6bec9da: 100% ▕▏ 7.7 KB                         \u001b[K\n",
            "pulling a70ff7e570d9: 100% ▕▏ 6.0 KB                         \u001b[K\n",
            "pulling 4f659a1e86d7: 100% ▕▏  485 B                         \u001b[K\n",
            "verifying sha256 digest ⠸ \u001b[K\u001b[?25h\u001b[?2026l\u001b[?2026h\u001b[?25l\u001b[A\u001b[A\u001b[A\u001b[A\u001b[A\u001b[A\u001b[1Gpulling manifest \u001b[K\n",
            "pulling 74701a8c35f6: 100% ▕▏ 1.3 GB                         \u001b[K\n",
            "pulling 966de95ca8a6: 100% ▕▏ 1.4 KB                         \u001b[K\n",
            "pulling fcc5a6bec9da: 100% ▕▏ 7.7 KB                         \u001b[K\n",
            "pulling a70ff7e570d9: 100% ▕▏ 6.0 KB                         \u001b[K\n",
            "pulling 4f659a1e86d7: 100% ▕▏  485 B                         \u001b[K\n",
            "verifying sha256 digest ⠼ \u001b[K\u001b[?25h\u001b[?2026l\u001b[?2026h\u001b[?25l\u001b[A\u001b[A\u001b[A\u001b[A\u001b[A\u001b[A\u001b[1Gpulling manifest \u001b[K\n",
            "pulling 74701a8c35f6: 100% ▕▏ 1.3 GB                         \u001b[K\n",
            "pulling 966de95ca8a6: 100% ▕▏ 1.4 KB                         \u001b[K\n",
            "pulling fcc5a6bec9da: 100% ▕▏ 7.7 KB                         \u001b[K\n",
            "pulling a70ff7e570d9: 100% ▕▏ 6.0 KB                         \u001b[K\n",
            "pulling 4f659a1e86d7: 100% ▕▏  485 B                         \u001b[K\n",
            "verifying sha256 digest ⠴ \u001b[K\u001b[?25h\u001b[?2026l\u001b[?2026h\u001b[?25l\u001b[A\u001b[A\u001b[A\u001b[A\u001b[A\u001b[A\u001b[1Gpulling manifest \u001b[K\n",
            "pulling 74701a8c35f6: 100% ▕▏ 1.3 GB                         \u001b[K\n",
            "pulling 966de95ca8a6: 100% ▕▏ 1.4 KB                         \u001b[K\n",
            "pulling fcc5a6bec9da: 100% ▕▏ 7.7 KB                         \u001b[K\n",
            "pulling a70ff7e570d9: 100% ▕▏ 6.0 KB                         \u001b[K\n",
            "pulling 4f659a1e86d7: 100% ▕▏  485 B                         \u001b[K\n",
            "verifying sha256 digest ⠦ \u001b[K\u001b[?25h\u001b[?2026l\u001b[?2026h\u001b[?25l\u001b[A\u001b[A\u001b[A\u001b[A\u001b[A\u001b[A\u001b[1Gpulling manifest \u001b[K\n",
            "pulling 74701a8c35f6: 100% ▕▏ 1.3 GB                         \u001b[K\n",
            "pulling 966de95ca8a6: 100% ▕▏ 1.4 KB                         \u001b[K\n",
            "pulling fcc5a6bec9da: 100% ▕▏ 7.7 KB                         \u001b[K\n",
            "pulling a70ff7e570d9: 100% ▕▏ 6.0 KB                         \u001b[K\n",
            "pulling 4f659a1e86d7: 100% ▕▏  485 B                         \u001b[K\n",
            "verifying sha256 digest ⠧ \u001b[K\u001b[?25h\u001b[?2026l\u001b[?2026h\u001b[?25l\u001b[A\u001b[A\u001b[A\u001b[A\u001b[A\u001b[A\u001b[1Gpulling manifest \u001b[K\n",
            "pulling 74701a8c35f6: 100% ▕▏ 1.3 GB                         \u001b[K\n",
            "pulling 966de95ca8a6: 100% ▕▏ 1.4 KB                         \u001b[K\n",
            "pulling fcc5a6bec9da: 100% ▕▏ 7.7 KB                         \u001b[K\n",
            "pulling a70ff7e570d9: 100% ▕▏ 6.0 KB                         \u001b[K\n",
            "pulling 4f659a1e86d7: 100% ▕▏  485 B                         \u001b[K\n",
            "verifying sha256 digest ⠇ \u001b[K\u001b[?25h\u001b[?2026l\u001b[?2026h\u001b[?25l\u001b[A\u001b[A\u001b[A\u001b[A\u001b[A\u001b[A\u001b[1Gpulling manifest \u001b[K\n",
            "pulling 74701a8c35f6: 100% ▕▏ 1.3 GB                         \u001b[K\n",
            "pulling 966de95ca8a6: 100% ▕▏ 1.4 KB                         \u001b[K\n",
            "pulling fcc5a6bec9da: 100% ▕▏ 7.7 KB                         \u001b[K\n",
            "pulling a70ff7e570d9: 100% ▕▏ 6.0 KB                         \u001b[K\n",
            "pulling 4f659a1e86d7: 100% ▕▏  485 B                         \u001b[K\n",
            "verifying sha256 digest ⠏ \u001b[K\u001b[?25h\u001b[?2026l\u001b[?2026h\u001b[?25l\u001b[A\u001b[A\u001b[A\u001b[A\u001b[A\u001b[A\u001b[1Gpulling manifest \u001b[K\n",
            "pulling 74701a8c35f6: 100% ▕▏ 1.3 GB                         \u001b[K\n",
            "pulling 966de95ca8a6: 100% ▕▏ 1.4 KB                         \u001b[K\n",
            "pulling fcc5a6bec9da: 100% ▕▏ 7.7 KB                         \u001b[K\n",
            "pulling a70ff7e570d9: 100% ▕▏ 6.0 KB                         \u001b[K\n",
            "pulling 4f659a1e86d7: 100% ▕▏  485 B                         \u001b[K\n",
            "verifying sha256 digest ⠋ \u001b[K\u001b[?25h\u001b[?2026l\u001b[?2026h\u001b[?25l\u001b[A\u001b[A\u001b[A\u001b[A\u001b[A\u001b[A\u001b[1Gpulling manifest \u001b[K\n",
            "pulling 74701a8c35f6: 100% ▕▏ 1.3 GB                         \u001b[K\n",
            "pulling 966de95ca8a6: 100% ▕▏ 1.4 KB                         \u001b[K\n",
            "pulling fcc5a6bec9da: 100% ▕▏ 7.7 KB                         \u001b[K\n",
            "pulling a70ff7e570d9: 100% ▕▏ 6.0 KB                         \u001b[K\n",
            "pulling 4f659a1e86d7: 100% ▕▏  485 B                         \u001b[K\n",
            "verifying sha256 digest ⠙ \u001b[K\u001b[?25h\u001b[?2026l\u001b[?2026h\u001b[?25l\u001b[A\u001b[A\u001b[A\u001b[A\u001b[A\u001b[A\u001b[1Gpulling manifest \u001b[K\n",
            "pulling 74701a8c35f6: 100% ▕▏ 1.3 GB                         \u001b[K\n",
            "pulling 966de95ca8a6: 100% ▕▏ 1.4 KB                         \u001b[K\n",
            "pulling fcc5a6bec9da: 100% ▕▏ 7.7 KB                         \u001b[K\n",
            "pulling a70ff7e570d9: 100% ▕▏ 6.0 KB                         \u001b[K\n",
            "pulling 4f659a1e86d7: 100% ▕▏  485 B                         \u001b[K\n",
            "verifying sha256 digest ⠹ \u001b[K\u001b[?25h\u001b[?2026l\u001b[?2026h\u001b[?25l\u001b[A\u001b[A\u001b[A\u001b[A\u001b[A\u001b[A\u001b[1Gpulling manifest \u001b[K\n",
            "pulling 74701a8c35f6: 100% ▕▏ 1.3 GB                         \u001b[K\n",
            "pulling 966de95ca8a6: 100% ▕▏ 1.4 KB                         \u001b[K\n",
            "pulling fcc5a6bec9da: 100% ▕▏ 7.7 KB                         \u001b[K\n",
            "pulling a70ff7e570d9: 100% ▕▏ 6.0 KB                         \u001b[K\n",
            "pulling 4f659a1e86d7: 100% ▕▏  485 B                         \u001b[K\n",
            "verifying sha256 digest ⠸ \u001b[K\u001b[?25h\u001b[?2026l\u001b[?2026h\u001b[?25l\u001b[A\u001b[A\u001b[A\u001b[A\u001b[A\u001b[A\u001b[1Gpulling manifest \u001b[K\n",
            "pulling 74701a8c35f6: 100% ▕▏ 1.3 GB                         \u001b[K\n",
            "pulling 966de95ca8a6: 100% ▕▏ 1.4 KB                         \u001b[K\n",
            "pulling fcc5a6bec9da: 100% ▕▏ 7.7 KB                         \u001b[K\n",
            "pulling a70ff7e570d9: 100% ▕▏ 6.0 KB                         \u001b[K\n",
            "pulling 4f659a1e86d7: 100% ▕▏  485 B                         \u001b[K\n",
            "verifying sha256 digest ⠼ \u001b[K\u001b[?25h\u001b[?2026l\u001b[?2026h\u001b[?25l\u001b[A\u001b[A\u001b[A\u001b[A\u001b[A\u001b[A\u001b[1Gpulling manifest \u001b[K\n",
            "pulling 74701a8c35f6: 100% ▕▏ 1.3 GB                         \u001b[K\n",
            "pulling 966de95ca8a6: 100% ▕▏ 1.4 KB                         \u001b[K\n",
            "pulling fcc5a6bec9da: 100% ▕▏ 7.7 KB                         \u001b[K\n",
            "pulling a70ff7e570d9: 100% ▕▏ 6.0 KB                         \u001b[K\n",
            "pulling 4f659a1e86d7: 100% ▕▏  485 B                         \u001b[K\n",
            "verifying sha256 digest ⠴ \u001b[K\u001b[?25h\u001b[?2026l\u001b[?2026h\u001b[?25l\u001b[A\u001b[A\u001b[A\u001b[A\u001b[A\u001b[A\u001b[1Gpulling manifest \u001b[K\n",
            "pulling 74701a8c35f6: 100% ▕▏ 1.3 GB                         \u001b[K\n",
            "pulling 966de95ca8a6: 100% ▕▏ 1.4 KB                         \u001b[K\n",
            "pulling fcc5a6bec9da: 100% ▕▏ 7.7 KB                         \u001b[K\n",
            "pulling a70ff7e570d9: 100% ▕▏ 6.0 KB                         \u001b[K\n",
            "pulling 4f659a1e86d7: 100% ▕▏  485 B                         \u001b[K\n",
            "verifying sha256 digest ⠦ \u001b[K\u001b[?25h\u001b[?2026l\u001b[?2026h\u001b[?25l\u001b[A\u001b[A\u001b[A\u001b[A\u001b[A\u001b[A\u001b[1Gpulling manifest \u001b[K\n",
            "pulling 74701a8c35f6: 100% ▕▏ 1.3 GB                         \u001b[K\n",
            "pulling 966de95ca8a6: 100% ▕▏ 1.4 KB                         \u001b[K\n",
            "pulling fcc5a6bec9da: 100% ▕▏ 7.7 KB                         \u001b[K\n",
            "pulling a70ff7e570d9: 100% ▕▏ 6.0 KB                         \u001b[K\n",
            "pulling 4f659a1e86d7: 100% ▕▏  485 B                         \u001b[K\n",
            "verifying sha256 digest ⠧ \u001b[K\u001b[?25h\u001b[?2026l\u001b[?2026h\u001b[?25l\u001b[A\u001b[A\u001b[A\u001b[A\u001b[A\u001b[A\u001b[1Gpulling manifest \u001b[K\n",
            "pulling 74701a8c35f6: 100% ▕▏ 1.3 GB                         \u001b[K\n",
            "pulling 966de95ca8a6: 100% ▕▏ 1.4 KB                         \u001b[K\n",
            "pulling fcc5a6bec9da: 100% ▕▏ 7.7 KB                         \u001b[K\n",
            "pulling a70ff7e570d9: 100% ▕▏ 6.0 KB                         \u001b[K\n",
            "pulling 4f659a1e86d7: 100% ▕▏  485 B                         \u001b[K\n",
            "verifying sha256 digest ⠇ \u001b[K\u001b[?25h\u001b[?2026l\u001b[?2026h\u001b[?25l\u001b[A\u001b[A\u001b[A\u001b[A\u001b[A\u001b[A\u001b[1Gpulling manifest \u001b[K\n",
            "pulling 74701a8c35f6: 100% ▕▏ 1.3 GB                         \u001b[K\n",
            "pulling 966de95ca8a6: 100% ▕▏ 1.4 KB                         \u001b[K\n",
            "pulling fcc5a6bec9da: 100% ▕▏ 7.7 KB                         \u001b[K\n",
            "pulling a70ff7e570d9: 100% ▕▏ 6.0 KB                         \u001b[K\n",
            "pulling 4f659a1e86d7: 100% ▕▏  485 B                         \u001b[K\n",
            "verifying sha256 digest ⠏ \u001b[K\u001b[?25h\u001b[?2026l\u001b[?2026h\u001b[?25l\u001b[A\u001b[A\u001b[A\u001b[A\u001b[A\u001b[A\u001b[1Gpulling manifest \u001b[K\n",
            "pulling 74701a8c35f6: 100% ▕▏ 1.3 GB                         \u001b[K\n",
            "pulling 966de95ca8a6: 100% ▕▏ 1.4 KB                         \u001b[K\n",
            "pulling fcc5a6bec9da: 100% ▕▏ 7.7 KB                         \u001b[K\n",
            "pulling a70ff7e570d9: 100% ▕▏ 6.0 KB                         \u001b[K\n",
            "pulling 4f659a1e86d7: 100% ▕▏  485 B                         \u001b[K\n",
            "verifying sha256 digest ⠋ \u001b[K\u001b[?25h\u001b[?2026l\u001b[?2026h\u001b[?25l\u001b[A\u001b[A\u001b[A\u001b[A\u001b[A\u001b[A\u001b[1Gpulling manifest \u001b[K\n",
            "pulling 74701a8c35f6: 100% ▕▏ 1.3 GB                         \u001b[K\n",
            "pulling 966de95ca8a6: 100% ▕▏ 1.4 KB                         \u001b[K\n",
            "pulling fcc5a6bec9da: 100% ▕▏ 7.7 KB                         \u001b[K\n",
            "pulling a70ff7e570d9: 100% ▕▏ 6.0 KB                         \u001b[K\n",
            "pulling 4f659a1e86d7: 100% ▕▏  485 B                         \u001b[K\n",
            "verifying sha256 digest ⠙ \u001b[K\u001b[?25h\u001b[?2026l\u001b[?2026h\u001b[?25l\u001b[A\u001b[A\u001b[A\u001b[A\u001b[A\u001b[A\u001b[1Gpulling manifest \u001b[K\n",
            "pulling 74701a8c35f6: 100% ▕▏ 1.3 GB                         \u001b[K\n",
            "pulling 966de95ca8a6: 100% ▕▏ 1.4 KB                         \u001b[K\n",
            "pulling fcc5a6bec9da: 100% ▕▏ 7.7 KB                         \u001b[K\n",
            "pulling a70ff7e570d9: 100% ▕▏ 6.0 KB                         \u001b[K\n",
            "pulling 4f659a1e86d7: 100% ▕▏  485 B                         \u001b[K\n",
            "verifying sha256 digest ⠹ \u001b[K\u001b[?25h\u001b[?2026l\u001b[?2026h\u001b[?25l\u001b[A\u001b[A\u001b[A\u001b[A\u001b[A\u001b[A\u001b[1Gpulling manifest \u001b[K\n",
            "pulling 74701a8c35f6: 100% ▕▏ 1.3 GB                         \u001b[K\n",
            "pulling 966de95ca8a6: 100% ▕▏ 1.4 KB                         \u001b[K\n",
            "pulling fcc5a6bec9da: 100% ▕▏ 7.7 KB                         \u001b[K\n",
            "pulling a70ff7e570d9: 100% ▕▏ 6.0 KB                         \u001b[K\n",
            "pulling 4f659a1e86d7: 100% ▕▏  485 B                         \u001b[K\n",
            "verifying sha256 digest ⠸ \u001b[K\u001b[?25h\u001b[?2026l\u001b[?2026h\u001b[?25l\u001b[A\u001b[A\u001b[A\u001b[A\u001b[A\u001b[A\u001b[1Gpulling manifest \u001b[K\n",
            "pulling 74701a8c35f6: 100% ▕▏ 1.3 GB                         \u001b[K\n",
            "pulling 966de95ca8a6: 100% ▕▏ 1.4 KB                         \u001b[K\n",
            "pulling fcc5a6bec9da: 100% ▕▏ 7.7 KB                         \u001b[K\n",
            "pulling a70ff7e570d9: 100% ▕▏ 6.0 KB                         \u001b[K\n",
            "pulling 4f659a1e86d7: 100% ▕▏  485 B                         \u001b[K\n",
            "verifying sha256 digest ⠼ \u001b[K\u001b[?25h\u001b[?2026l\u001b[?2026h\u001b[?25l\u001b[A\u001b[A\u001b[A\u001b[A\u001b[A\u001b[A\u001b[1Gpulling manifest \u001b[K\n",
            "pulling 74701a8c35f6: 100% ▕▏ 1.3 GB                         \u001b[K\n",
            "pulling 966de95ca8a6: 100% ▕▏ 1.4 KB                         \u001b[K\n",
            "pulling fcc5a6bec9da: 100% ▕▏ 7.7 KB                         \u001b[K\n",
            "pulling a70ff7e570d9: 100% ▕▏ 6.0 KB                         \u001b[K\n",
            "pulling 4f659a1e86d7: 100% ▕▏  485 B                         \u001b[K\n",
            "verifying sha256 digest ⠴ \u001b[K\u001b[?25h\u001b[?2026l\u001b[?2026h\u001b[?25l\u001b[A\u001b[A\u001b[A\u001b[A\u001b[A\u001b[A\u001b[1Gpulling manifest \u001b[K\n",
            "pulling 74701a8c35f6: 100% ▕▏ 1.3 GB                         \u001b[K\n",
            "pulling 966de95ca8a6: 100% ▕▏ 1.4 KB                         \u001b[K\n",
            "pulling fcc5a6bec9da: 100% ▕▏ 7.7 KB                         \u001b[K\n",
            "pulling a70ff7e570d9: 100% ▕▏ 6.0 KB                         \u001b[K\n",
            "pulling 4f659a1e86d7: 100% ▕▏  485 B                         \u001b[K\n",
            "verifying sha256 digest ⠦ \u001b[K\u001b[?25h\u001b[?2026l\u001b[?2026h\u001b[?25l\u001b[A\u001b[A\u001b[A\u001b[A\u001b[A\u001b[A\u001b[1Gpulling manifest \u001b[K\n",
            "pulling 74701a8c35f6: 100% ▕▏ 1.3 GB                         \u001b[K\n",
            "pulling 966de95ca8a6: 100% ▕▏ 1.4 KB                         \u001b[K\n",
            "pulling fcc5a6bec9da: 100% ▕▏ 7.7 KB                         \u001b[K\n",
            "pulling a70ff7e570d9: 100% ▕▏ 6.0 KB                         \u001b[K\n",
            "pulling 4f659a1e86d7: 100% ▕▏  485 B                         \u001b[K\n",
            "verifying sha256 digest ⠧ \u001b[K\u001b[?25h\u001b[?2026l\u001b[?2026h\u001b[?25l\u001b[A\u001b[A\u001b[A\u001b[A\u001b[A\u001b[A\u001b[1Gpulling manifest \u001b[K\n",
            "pulling 74701a8c35f6: 100% ▕▏ 1.3 GB                         \u001b[K\n",
            "pulling 966de95ca8a6: 100% ▕▏ 1.4 KB                         \u001b[K\n",
            "pulling fcc5a6bec9da: 100% ▕▏ 7.7 KB                         \u001b[K\n",
            "pulling a70ff7e570d9: 100% ▕▏ 6.0 KB                         \u001b[K\n",
            "pulling 4f659a1e86d7: 100% ▕▏  485 B                         \u001b[K\n",
            "verifying sha256 digest ⠇ \u001b[K\u001b[?25h\u001b[?2026l\u001b[?2026h\u001b[?25l\u001b[A\u001b[A\u001b[A\u001b[A\u001b[A\u001b[A\u001b[1Gpulling manifest \u001b[K\n",
            "pulling 74701a8c35f6: 100% ▕▏ 1.3 GB                         \u001b[K\n",
            "pulling 966de95ca8a6: 100% ▕▏ 1.4 KB                         \u001b[K\n",
            "pulling fcc5a6bec9da: 100% ▕▏ 7.7 KB                         \u001b[K\n",
            "pulling a70ff7e570d9: 100% ▕▏ 6.0 KB                         \u001b[K\n",
            "pulling 4f659a1e86d7: 100% ▕▏  485 B                         \u001b[K\n",
            "verifying sha256 digest ⠏ \u001b[K\u001b[?25h\u001b[?2026l\u001b[?2026h\u001b[?25l\u001b[A\u001b[A\u001b[A\u001b[A\u001b[A\u001b[A\u001b[1Gpulling manifest \u001b[K\n",
            "pulling 74701a8c35f6: 100% ▕▏ 1.3 GB                         \u001b[K\n",
            "pulling 966de95ca8a6: 100% ▕▏ 1.4 KB                         \u001b[K\n",
            "pulling fcc5a6bec9da: 100% ▕▏ 7.7 KB                         \u001b[K\n",
            "pulling a70ff7e570d9: 100% ▕▏ 6.0 KB                         \u001b[K\n",
            "pulling 4f659a1e86d7: 100% ▕▏  485 B                         \u001b[K\n",
            "verifying sha256 digest ⠋ \u001b[K\u001b[?25h\u001b[?2026l\u001b[?2026h\u001b[?25l\u001b[A\u001b[A\u001b[A\u001b[A\u001b[A\u001b[A\u001b[1Gpulling manifest \u001b[K\n",
            "pulling 74701a8c35f6: 100% ▕▏ 1.3 GB                         \u001b[K\n",
            "pulling 966de95ca8a6: 100% ▕▏ 1.4 KB                         \u001b[K\n",
            "pulling fcc5a6bec9da: 100% ▕▏ 7.7 KB                         \u001b[K\n",
            "pulling a70ff7e570d9: 100% ▕▏ 6.0 KB                         \u001b[K\n",
            "pulling 4f659a1e86d7: 100% ▕▏  485 B                         \u001b[K\n",
            "verifying sha256 digest ⠙ \u001b[K\u001b[?25h\u001b[?2026l\u001b[?2026h\u001b[?25l\u001b[A\u001b[A\u001b[A\u001b[A\u001b[A\u001b[A\u001b[1Gpulling manifest \u001b[K\n",
            "pulling 74701a8c35f6: 100% ▕▏ 1.3 GB                         \u001b[K\n",
            "pulling 966de95ca8a6: 100% ▕▏ 1.4 KB                         \u001b[K\n",
            "pulling fcc5a6bec9da: 100% ▕▏ 7.7 KB                         \u001b[K\n",
            "pulling a70ff7e570d9: 100% ▕▏ 6.0 KB                         \u001b[K\n",
            "pulling 4f659a1e86d7: 100% ▕▏  485 B                         \u001b[K\n",
            "verifying sha256 digest ⠹ \u001b[K\u001b[?25h\u001b[?2026l\u001b[?2026h\u001b[?25l\u001b[A\u001b[A\u001b[A\u001b[A\u001b[A\u001b[A\u001b[1Gpulling manifest \u001b[K\n",
            "pulling 74701a8c35f6: 100% ▕▏ 1.3 GB                         \u001b[K\n",
            "pulling 966de95ca8a6: 100% ▕▏ 1.4 KB                         \u001b[K\n",
            "pulling fcc5a6bec9da: 100% ▕▏ 7.7 KB                         \u001b[K\n",
            "pulling a70ff7e570d9: 100% ▕▏ 6.0 KB                         \u001b[K\n",
            "pulling 4f659a1e86d7: 100% ▕▏  485 B                         \u001b[K\n",
            "verifying sha256 digest ⠸ \u001b[K\u001b[?25h\u001b[?2026l\u001b[?2026h\u001b[?25l\u001b[A\u001b[A\u001b[A\u001b[A\u001b[A\u001b[A\u001b[1Gpulling manifest \u001b[K\n",
            "pulling 74701a8c35f6: 100% ▕▏ 1.3 GB                         \u001b[K\n",
            "pulling 966de95ca8a6: 100% ▕▏ 1.4 KB                         \u001b[K\n",
            "pulling fcc5a6bec9da: 100% ▕▏ 7.7 KB                         \u001b[K\n",
            "pulling a70ff7e570d9: 100% ▕▏ 6.0 KB                         \u001b[K\n",
            "pulling 4f659a1e86d7: 100% ▕▏  485 B                         \u001b[K\n",
            "verifying sha256 digest ⠼ \u001b[K\u001b[?25h\u001b[?2026l\u001b[?2026h\u001b[?25l\u001b[A\u001b[A\u001b[A\u001b[A\u001b[A\u001b[A\u001b[1Gpulling manifest \u001b[K\n",
            "pulling 74701a8c35f6: 100% ▕▏ 1.3 GB                         \u001b[K\n",
            "pulling 966de95ca8a6: 100% ▕▏ 1.4 KB                         \u001b[K\n",
            "pulling fcc5a6bec9da: 100% ▕▏ 7.7 KB                         \u001b[K\n",
            "pulling a70ff7e570d9: 100% ▕▏ 6.0 KB                         \u001b[K\n",
            "pulling 4f659a1e86d7: 100% ▕▏  485 B                         \u001b[K\n",
            "verifying sha256 digest ⠴ \u001b[K\u001b[?25h\u001b[?2026l\u001b[?2026h\u001b[?25l\u001b[A\u001b[A\u001b[A\u001b[A\u001b[A\u001b[A\u001b[1Gpulling manifest \u001b[K\n",
            "pulling 74701a8c35f6: 100% ▕▏ 1.3 GB                         \u001b[K\n",
            "pulling 966de95ca8a6: 100% ▕▏ 1.4 KB                         \u001b[K\n",
            "pulling fcc5a6bec9da: 100% ▕▏ 7.7 KB                         \u001b[K\n",
            "pulling a70ff7e570d9: 100% ▕▏ 6.0 KB                         \u001b[K\n",
            "pulling 4f659a1e86d7: 100% ▕▏  485 B                         \u001b[K\n",
            "verifying sha256 digest ⠦ \u001b[K\u001b[?25h\u001b[?2026l\u001b[?2026h\u001b[?25l\u001b[A\u001b[A\u001b[A\u001b[A\u001b[A\u001b[A\u001b[1Gpulling manifest \u001b[K\n",
            "pulling 74701a8c35f6: 100% ▕▏ 1.3 GB                         \u001b[K\n",
            "pulling 966de95ca8a6: 100% ▕▏ 1.4 KB                         \u001b[K\n",
            "pulling fcc5a6bec9da: 100% ▕▏ 7.7 KB                         \u001b[K\n",
            "pulling a70ff7e570d9: 100% ▕▏ 6.0 KB                         \u001b[K\n",
            "pulling 4f659a1e86d7: 100% ▕▏  485 B                         \u001b[K\n",
            "verifying sha256 digest ⠧ \u001b[K\u001b[?25h\u001b[?2026l\u001b[?2026h\u001b[?25l\u001b[A\u001b[A\u001b[A\u001b[A\u001b[A\u001b[A\u001b[1Gpulling manifest \u001b[K\n",
            "pulling 74701a8c35f6: 100% ▕▏ 1.3 GB                         \u001b[K\n",
            "pulling 966de95ca8a6: 100% ▕▏ 1.4 KB                         \u001b[K\n",
            "pulling fcc5a6bec9da: 100% ▕▏ 7.7 KB                         \u001b[K\n",
            "pulling a70ff7e570d9: 100% ▕▏ 6.0 KB                         \u001b[K\n",
            "pulling 4f659a1e86d7: 100% ▕▏  485 B                         \u001b[K\n",
            "verifying sha256 digest ⠇ \u001b[K\u001b[?25h\u001b[?2026l\u001b[?2026h\u001b[?25l\u001b[A\u001b[A\u001b[A\u001b[A\u001b[A\u001b[A\u001b[1Gpulling manifest \u001b[K\n",
            "pulling 74701a8c35f6: 100% ▕▏ 1.3 GB                         \u001b[K\n",
            "pulling 966de95ca8a6: 100% ▕▏ 1.4 KB                         \u001b[K\n",
            "pulling fcc5a6bec9da: 100% ▕▏ 7.7 KB                         \u001b[K\n",
            "pulling a70ff7e570d9: 100% ▕▏ 6.0 KB                         \u001b[K\n",
            "pulling 4f659a1e86d7: 100% ▕▏  485 B                         \u001b[K\n",
            "verifying sha256 digest ⠏ \u001b[K\u001b[?25h\u001b[?2026l\u001b[?2026h\u001b[?25l\u001b[A\u001b[A\u001b[A\u001b[A\u001b[A\u001b[A\u001b[1Gpulling manifest \u001b[K\n",
            "pulling 74701a8c35f6: 100% ▕▏ 1.3 GB                         \u001b[K\n",
            "pulling 966de95ca8a6: 100% ▕▏ 1.4 KB                         \u001b[K\n",
            "pulling fcc5a6bec9da: 100% ▕▏ 7.7 KB                         \u001b[K\n",
            "pulling a70ff7e570d9: 100% ▕▏ 6.0 KB                         \u001b[K\n",
            "pulling 4f659a1e86d7: 100% ▕▏  485 B                         \u001b[K\n",
            "verifying sha256 digest ⠋ \u001b[K\u001b[?25h\u001b[?2026l\u001b[?2026h\u001b[?25l\u001b[A\u001b[A\u001b[A\u001b[A\u001b[A\u001b[A\u001b[1Gpulling manifest \u001b[K\n",
            "pulling 74701a8c35f6: 100% ▕▏ 1.3 GB                         \u001b[K\n",
            "pulling 966de95ca8a6: 100% ▕▏ 1.4 KB                         \u001b[K\n",
            "pulling fcc5a6bec9da: 100% ▕▏ 7.7 KB                         \u001b[K\n",
            "pulling a70ff7e570d9: 100% ▕▏ 6.0 KB                         \u001b[K\n",
            "pulling 4f659a1e86d7: 100% ▕▏  485 B                         \u001b[K\n",
            "verifying sha256 digest ⠙ \u001b[K\u001b[?25h\u001b[?2026l\u001b[?2026h\u001b[?25l\u001b[A\u001b[A\u001b[A\u001b[A\u001b[A\u001b[A\u001b[1Gpulling manifest \u001b[K\n",
            "pulling 74701a8c35f6: 100% ▕▏ 1.3 GB                         \u001b[K\n",
            "pulling 966de95ca8a6: 100% ▕▏ 1.4 KB                         \u001b[K\n",
            "pulling fcc5a6bec9da: 100% ▕▏ 7.7 KB                         \u001b[K\n",
            "pulling a70ff7e570d9: 100% ▕▏ 6.0 KB                         \u001b[K\n",
            "pulling 4f659a1e86d7: 100% ▕▏  485 B                         \u001b[K\n",
            "verifying sha256 digest ⠹ \u001b[K\u001b[?25h\u001b[?2026l\u001b[?2026h\u001b[?25l\u001b[A\u001b[A\u001b[A\u001b[A\u001b[A\u001b[A\u001b[1Gpulling manifest \u001b[K\n",
            "pulling 74701a8c35f6: 100% ▕▏ 1.3 GB                         \u001b[K\n",
            "pulling 966de95ca8a6: 100% ▕▏ 1.4 KB                         \u001b[K\n",
            "pulling fcc5a6bec9da: 100% ▕▏ 7.7 KB                         \u001b[K\n",
            "pulling a70ff7e570d9: 100% ▕▏ 6.0 KB                         \u001b[K\n",
            "pulling 4f659a1e86d7: 100% ▕▏  485 B                         \u001b[K\n",
            "verifying sha256 digest ⠸ \u001b[K\u001b[?25h\u001b[?2026l\u001b[?2026h\u001b[?25l\u001b[A\u001b[A\u001b[A\u001b[A\u001b[A\u001b[A\u001b[1Gpulling manifest \u001b[K\n",
            "pulling 74701a8c35f6: 100% ▕▏ 1.3 GB                         \u001b[K\n",
            "pulling 966de95ca8a6: 100% ▕▏ 1.4 KB                         \u001b[K\n",
            "pulling fcc5a6bec9da: 100% ▕▏ 7.7 KB                         \u001b[K\n",
            "pulling a70ff7e570d9: 100% ▕▏ 6.0 KB                         \u001b[K\n",
            "pulling 4f659a1e86d7: 100% ▕▏  485 B                         \u001b[K\n",
            "verifying sha256 digest ⠼ \u001b[K\u001b[?25h\u001b[?2026l\u001b[?2026h\u001b[?25l\u001b[A\u001b[A\u001b[A\u001b[A\u001b[A\u001b[A\u001b[1Gpulling manifest \u001b[K\n",
            "pulling 74701a8c35f6: 100% ▕▏ 1.3 GB                         \u001b[K\n",
            "pulling 966de95ca8a6: 100% ▕▏ 1.4 KB                         \u001b[K\n",
            "pulling fcc5a6bec9da: 100% ▕▏ 7.7 KB                         \u001b[K\n",
            "pulling a70ff7e570d9: 100% ▕▏ 6.0 KB                         \u001b[K\n",
            "pulling 4f659a1e86d7: 100% ▕▏  485 B                         \u001b[K\n",
            "verifying sha256 digest ⠴ \u001b[K\u001b[?25h\u001b[?2026l\u001b[?2026h\u001b[?25l\u001b[A\u001b[A\u001b[A\u001b[A\u001b[A\u001b[A\u001b[1Gpulling manifest \u001b[K\n",
            "pulling 74701a8c35f6: 100% ▕▏ 1.3 GB                         \u001b[K\n",
            "pulling 966de95ca8a6: 100% ▕▏ 1.4 KB                         \u001b[K\n",
            "pulling fcc5a6bec9da: 100% ▕▏ 7.7 KB                         \u001b[K\n",
            "pulling a70ff7e570d9: 100% ▕▏ 6.0 KB                         \u001b[K\n",
            "pulling 4f659a1e86d7: 100% ▕▏  485 B                         \u001b[K\n",
            "verifying sha256 digest \u001b[K\n",
            "writing manifest \u001b[K\n",
            "success \u001b[K\u001b[?25h\u001b[?2026l\n"
          ]
        }
      ]
    },
    {
      "cell_type": "code",
      "source": [
        "# install the Ollama python API package\n",
        "\n",
        "!pip install ollama"
      ],
      "metadata": {
        "colab": {
          "base_uri": "https://localhost:8080/"
        },
        "id": "ncgRZVoCDT8_",
        "outputId": "216a7ca5-9d3c-42f0-af7c-31b6e2db5074"
      },
      "execution_count": null,
      "outputs": [
        {
          "output_type": "stream",
          "name": "stdout",
          "text": [
            "Collecting ollama\n",
            "  Downloading ollama-0.4.8-py3-none-any.whl.metadata (4.7 kB)\n",
            "Requirement already satisfied: httpx<0.29,>=0.27 in /usr/local/lib/python3.11/dist-packages (from ollama) (0.28.1)\n",
            "Requirement already satisfied: pydantic<3.0.0,>=2.9.0 in /usr/local/lib/python3.11/dist-packages (from ollama) (2.11.3)\n",
            "Requirement already satisfied: anyio in /usr/local/lib/python3.11/dist-packages (from httpx<0.29,>=0.27->ollama) (4.9.0)\n",
            "Requirement already satisfied: certifi in /usr/local/lib/python3.11/dist-packages (from httpx<0.29,>=0.27->ollama) (2025.4.26)\n",
            "Requirement already satisfied: httpcore==1.* in /usr/local/lib/python3.11/dist-packages (from httpx<0.29,>=0.27->ollama) (1.0.9)\n",
            "Requirement already satisfied: idna in /usr/local/lib/python3.11/dist-packages (from httpx<0.29,>=0.27->ollama) (3.10)\n",
            "Requirement already satisfied: h11>=0.16 in /usr/local/lib/python3.11/dist-packages (from httpcore==1.*->httpx<0.29,>=0.27->ollama) (0.16.0)\n",
            "Requirement already satisfied: annotated-types>=0.6.0 in /usr/local/lib/python3.11/dist-packages (from pydantic<3.0.0,>=2.9.0->ollama) (0.7.0)\n",
            "Requirement already satisfied: pydantic-core==2.33.1 in /usr/local/lib/python3.11/dist-packages (from pydantic<3.0.0,>=2.9.0->ollama) (2.33.1)\n",
            "Requirement already satisfied: typing-extensions>=4.12.2 in /usr/local/lib/python3.11/dist-packages (from pydantic<3.0.0,>=2.9.0->ollama) (4.13.2)\n",
            "Requirement already satisfied: typing-inspection>=0.4.0 in /usr/local/lib/python3.11/dist-packages (from pydantic<3.0.0,>=2.9.0->ollama) (0.4.0)\n",
            "Requirement already satisfied: sniffio>=1.1 in /usr/local/lib/python3.11/dist-packages (from anyio->httpx<0.29,>=0.27->ollama) (1.3.1)\n",
            "Downloading ollama-0.4.8-py3-none-any.whl (13 kB)\n",
            "Installing collected packages: ollama\n",
            "Successfully installed ollama-0.4.8\n"
          ]
        }
      ]
    },
    {
      "cell_type": "code",
      "source": [
        "# Your first message to your very own LLM running \"locally\" (well, on your cloud box)\n",
        "\n",
        "message = \"Hello,  This is my first ever message to you! Hi!\""
      ],
      "metadata": {
        "id": "i47s8jXhDv-_"
      },
      "execution_count": null,
      "outputs": []
    },
    {
      "cell_type": "code",
      "source": [
        "# Put this message into the format expected by Ollama\n",
        "\n",
        "messages = [{\"role\": \"user\", \"content\": message}]"
      ],
      "metadata": {
        "id": "fPtG3mddDygu"
      },
      "execution_count": null,
      "outputs": []
    },
    {
      "cell_type": "code",
      "source": [
        "# import the package\n",
        "\n",
        "import ollama"
      ],
      "metadata": {
        "id": "u0KFKtHXD1Fe"
      },
      "execution_count": null,
      "outputs": []
    },
    {
      "cell_type": "code",
      "source": [
        "# Let's do this!!\n",
        "\n",
        "response = ollama.chat(model=\"llama3.2:1b\", messages=messages)\n",
        "\n",
        "print(response['message']['content'])"
      ],
      "metadata": {
        "colab": {
          "base_uri": "https://localhost:8080/"
        },
        "id": "7WbFx8FCz0-F",
        "outputId": "5816713b-9bf7-4aa7-a99f-c5f57995ae56"
      },
      "execution_count": null,
      "outputs": [
        {
          "output_type": "stream",
          "name": "stdout",
          "text": [
            "Welcome to our conversation! I'm glad to meet you. Is there something I can help you with or would you like to chat?\n"
          ]
        }
      ]
    },
    {
      "cell_type": "code",
      "source": [
        "headers = {\n",
        " \"User-Agent\": \"Mozilla/5.0 (Windows NT 10.0; Win64; x64) AppleWebKit/537.36 (KHTML, like Gecko) Chrome/117.0.0.0 Safari/537.36\"\n",
        "}"
      ],
      "metadata": {
        "id": "SRb0EEVHFlLn"
      },
      "execution_count": null,
      "outputs": []
    },
    {
      "cell_type": "code",
      "source": [
        "# A class to represent a Webpage\n",
        "class Website:\n",
        "\n",
        "  def __init__(self, url):\n",
        "     \"\"\"\n",
        "        Create this Website object from the given url using the BeautifulSoup library\n",
        "     \"\"\"\n",
        "     self.url = url\n",
        "     response = requests.get(url, headers=headers)\n",
        "     soup = BeautifulSoup(response.content, 'html.parser')\n",
        "     self.title = soup.title.string if soup.title else \"No title found\"\n",
        "     for irrelevant in soup.body([\"script\", \"style\", \"img\", \"input\"]):\n",
        "      irrelevant.decompose()\n",
        "     self.text = soup.body.get_text(separator=\"\\n\",strip=True)"
      ],
      "metadata": {
        "id": "_SvfnKagFplm"
      },
      "execution_count": null,
      "outputs": []
    },
    {
      "cell_type": "code",
      "source": [
        "ed = Website(\"https://edwarddonner.com\")\n",
        "print(ed.title)\n",
        "print(ed.text)"
      ],
      "metadata": {
        "id": "uMPYZRarIUAJ"
      },
      "execution_count": null,
      "outputs": []
    },
    {
      "cell_type": "code",
      "source": [
        "system_prompt = \"You are an assistant that analyzes the contents of a website \\\n",
        "and provides a short summary, ignoring text that might be navigation related. \\\n",
        "Respond in markdown.\""
      ],
      "metadata": {
        "id": "P2K_ta5HJ5FM"
      },
      "execution_count": null,
      "outputs": []
    },
    {
      "cell_type": "code",
      "source": [
        "# A function that writes a User Prompt that asks for summaries of websites:\n",
        "\n",
        "def user_prompt_for(website):\n",
        "    user_prompt = f\"You are looking at a website titled {website.title}\"\n",
        "    user_prompt += \"\\nThe contents of this website is as follows; \\\n",
        "please provide a short summary of this website in markdown. \\\n",
        "If it includes news or announcements, then summarize these too.\\n\\n\"\n",
        "    user_prompt += website.text\n",
        "    return user_prompt"
      ],
      "metadata": {
        "id": "_U_DPi9DLPb5"
      },
      "execution_count": null,
      "outputs": []
    },
    {
      "cell_type": "code",
      "source": [
        "user_prompt_for(ed)"
      ],
      "metadata": {
        "colab": {
          "base_uri": "https://localhost:8080/",
          "height": 123
        },
        "id": "ZpmojKZqL1lt",
        "outputId": "79a19df0-610c-46bc-c669-905754412ff8"
      },
      "execution_count": null,
      "outputs": [
        {
          "output_type": "execute_result",
          "data": {
            "text/plain": [
              "'You are looking at a website titled Home - Edward Donner\\nThe contents of this website is as follows; please provide a short summary of this website in markdown. If it includes news or announcements, then summarize these too.\\n\\nHome\\nConnect Four\\nOutsmart\\nAn arena that pits LLMs against each other in a battle of diplomacy and deviousness\\nAbout\\nPosts\\nWell, hi there.\\nI’m Ed. I like writing code and experimenting with LLMs, and hopefully you’re here because you do too. I also enjoy DJing (but I’m badly out of practice), amateur electronic music production (\\nvery\\namateur) and losing myself in\\nHacker News\\n, nodding my head sagely to things I only half understand.\\nI’m the co-founder and CTO of\\nNebula.io\\n. We’re applying AI to a field where it can make a massive, positive impact: helping people discover their potential and pursue their reason for being. Recruiters use our product today to source, understand, engage and manage talent. I’m previously the founder and CEO of AI startup untapt,\\nacquired in 2021\\n.\\nWe work with groundbreaking, proprietary LLMs verticalized for talent, we’ve\\npatented\\nour matching model, and our award-winning platform has happy customers and tons of press coverage.\\nConnect\\nwith me for more!\\nApril 21, 2025\\nThe Complete Agentic AI Engineering Course\\nJanuary 23, 2025\\nLLM Workshop – Hands-on with Agents – resources\\nDecember 21, 2024\\nWelcome, SuperDataScientists!\\nNovember 13, 2024\\nMastering AI and LLM Engineering – Resources\\nNavigation\\nHome\\nConnect Four\\nOutsmart\\nAn arena that pits LLMs against each other in a battle of diplomacy and deviousness\\nAbout\\nPosts\\nGet in touch\\ned [at] edwarddonner [dot] com\\nwww.edwarddonner.com\\nFollow me\\nLinkedIn\\nTwitter\\nFacebook\\nSubscribe to newsletter\\nType your email…\\nSubscribe'"
            ],
            "application/vnd.google.colaboratory.intrinsic+json": {
              "type": "string"
            }
          },
          "metadata": {},
          "execution_count": 17
        }
      ]
    },
    {
      "cell_type": "code",
      "source": [
        "def messages_for(website):\n",
        "    return [\n",
        "        {\"role\": \"system\", \"content\": system_prompt},\n",
        "        {\"role\": \"user\", \"content\": user_prompt_for(website)}\n",
        "    ]\n"
      ],
      "metadata": {
        "id": "mjq03xVpMCjR"
      },
      "execution_count": null,
      "outputs": []
    },
    {
      "cell_type": "code",
      "source": [
        "# And now: call the OpenAI API. You will get very familiar with this!\n",
        "\n",
        "def summarize(url):\n",
        "    website = Website(url)\n",
        "    response = ollama.chat(model=\"llama3.2:1b\", messages=messages_for(website))\n",
        "    return response['message']['content']\n"
      ],
      "metadata": {
        "id": "V68NxgDmkzzM"
      },
      "execution_count": null,
      "outputs": []
    },
    {
      "cell_type": "code",
      "source": [
        "summarize(\"https://edwarddonner.com\")"
      ],
      "metadata": {
        "colab": {
          "base_uri": "https://localhost:8080/",
          "height": 122
        },
        "id": "aOiUXBvvlJBl",
        "outputId": "df800a2e-31b7-49a2-d6b4-ac009b0c42ee"
      },
      "execution_count": null,
      "outputs": [
        {
          "output_type": "execute_result",
          "data": {
            "text/plain": [
              "'# Edward Donner\\'s Website Summary\\n\\n* **Website Overview**: The website is about a team called Nebula.io, which provides a platform for LLMs (Large Language Models) to assist with talent discovery and management.\\n* **Founders and Background**: The founder and CTO of Nebula.io is Ed, who previously founded an AI startup untapt that was acquired in 2021. He has patents and press coverage related to his work on matching models and proprietary LLMs.\\n* **Courses and Resources**: The website lists several courses and resources available for Agentic AI Engineering, including:\\n\\t+ \"The Complete Agentic AI Engineering Course\" (announced)\\n\\t+ \"LLM Workshop – Hands-on with Agents – resources\" (available in December 2024)\\n\\t+ \"Welcome, SuperDataScientists!\" (announced)\\n* **Contact Information**: The website has a contact form, email address, LinkedIn profile, Twitter handle, Facebook page, and newsletter sign-up link.'"
            ],
            "application/vnd.google.colaboratory.intrinsic+json": {
              "type": "string"
            }
          },
          "metadata": {},
          "execution_count": 24
        }
      ]
    },
    {
      "cell_type": "code",
      "source": [
        "def display_summary(url):\n",
        "    summary = summarize(url)\n",
        "    display(Markdown(summary))"
      ],
      "metadata": {
        "id": "MFbr4vKylJfM"
      },
      "execution_count": null,
      "outputs": []
    },
    {
      "cell_type": "code",
      "source": [
        "display_summary(\"https://edwarddonner.com\")"
      ],
      "metadata": {
        "colab": {
          "base_uri": "https://localhost:8080/",
          "height": 122
        },
        "id": "UbdlqW87mf4L",
        "outputId": "47942f30-24b8-49e3-a4b2-fc3f5d8c17c7"
      },
      "execution_count": null,
      "outputs": [
        {
          "output_type": "display_data",
          "data": {
            "text/plain": [
              "<IPython.core.display.Markdown object>"
            ],
            "text/markdown": "Here is a summary of the website in markdown:\n\n* The website is about an LLM arena game where LLMs (Large Language Models) compete against each other.\n* It appears to be a platform for recruiting and managing talent using AI technology.\n* The founder, Ed Donner, has a background in AI engineering and previously founded an AI startup called untapt, which was acquired in 2021.\n* The website features resources and announcements related to the AI industry, including upcoming courses and workshops."
          },
          "metadata": {}
        }
      ]
    },
    {
      "cell_type": "code",
      "source": [
        "display_summary(\"https://cnn.com\")"
      ],
      "metadata": {
        "id": "lhjsx2bVmgSh"
      },
      "execution_count": null,
      "outputs": []
    },
    {
      "cell_type": "code",
      "source": [
        "display_summary(\"https://theconversation.com/the-womens-health-initiative-has-shaped-womens-health-for-over-30-years-but-its-future-is-uncertain-255311\")"
      ],
      "metadata": {
        "colab": {
          "base_uri": "https://localhost:8080/",
          "height": 401
        },
        "id": "QHUMANE4m2_y",
        "outputId": "d39558a1-e2b7-442d-ca5b-e3a4b4eea90f"
      },
      "execution_count": null,
      "outputs": [
        {
          "output_type": "display_data",
          "data": {
            "text/plain": [
              "<IPython.core.display.Markdown object>"
            ],
            "text/markdown": "**The Women's Health Initiative: Shaping Women's Health for Over 30 Years**\n\n* The Women's Health Initiative (WHI) is a long-term study of women's health initiated by the National Institutes of Health (NIH) in 1991.\n* The study aims to understand the risks and benefits of menopausal hormone therapy, with over 2,400 published scientific papers in leading medical journals.\n* Despite its importance, the WHI has faced funding uncertainty, with plans for termination being reinstated after controversy.\n* The study has had a significant impact on women's health, preventing thousands of cases of breast cancer and cardiovascular disease, and reducing healthcare costs by an estimated $35 billion.\n\n**Current Status**\n\n* Almost 42,000 women remain active participants in the WHI, representing over 50% of the population.\n* The study continues to collect data from these participants, providing valuable insights into health outcomes related to age-related diseases.\n* New research is being conducted on topics such as physical activity, bone health, and disease prevention.\n\n**Future Directions**\n\n* Over 42,000 additional women are expected to join the study by 2050.\n* The WHI's findings will continue to guide clinical practice, prevention strategies, and public health policies, particularly for older women.\n* Researchers are exploring new avenues of research, including the effects of low to moderate physical activity on health and bone health.\n\n**Impact and Legacy**\n\n* The Women's Health Initiative has shaped women's health in a significant way, providing valuable insights into the risks and benefits of menopausal hormone therapy.\n* Its findings have been instrumental in preventing thousands of cases of breast cancer and cardiovascular disease, reducing healthcare costs by an estimated $35 billion."
          },
          "metadata": {}
        }
      ]
    },
    {
      "cell_type": "code",
      "source": [],
      "metadata": {
        "id": "iPJ_1FD9nBaZ"
      },
      "execution_count": null,
      "outputs": []
    }
  ]
}